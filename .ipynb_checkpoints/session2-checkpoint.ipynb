{
 "cells": [
  {
   "cell_type": "markdown",
   "metadata": {},
   "source": [
    "# Tutorial: Integrating GraphSpace into network analysis projects\n",
    "\n",
    "**Presenters**: Aditya Bharadwaj, Jeffrey N. Law and T. M. Murali\n",
    "\n",
    "## Introduction\n",
    "\n",
    "- Required files for today\n",
    "    - Clone or download this repository: [http://bit.ly/2017icsb](http://bit.ly/2017icsb)\n",
    "    - IPython/Jupyter notebooks (*Add links*)\n",
    "    - Datasets in the data subdirectory (*Add links*)\n",
    "- Required software for today\n",
    "    - Both Python 2 and 3 are welcome\n",
    "    - [Jupyter](http://jupyter.readthedocs.io/en/latest/install.html) or [IPython](https://ipython.org/install.html) (and their dependencies)\n",
    "    - [Anaconda distribution of Python](https://www.continuum.io/downloads) is an easy way to install these\n",
    "- About Me\n",
    "    - PhD Student, CS@VT\n",
    "    - Website: [adityabharadwaj.in](adityabharadwaj.in)\n",
    "    - Email: adb@vt.edu\n",
    "    - Twitter: @adbcoder\n",
    "\n",
    "    \n",
    "## Agenda\n",
    "\n",
    "1. Setup required softwares\n",
    "1. Introduction to python programming\n",
    "2. Creating and uploading graphs\n",
    "    - Basics of NetworkX API\n",
    "    - Visualizing networks on GraphSpace\n",
    "    - Adding style to the networks\n",
    "    - Specifying weights on edges\n",
    "    - Laying out nodes programmatically\n",
    "3. Managing groups\n",
    "    - Create groups\n",
    "    - Add/Remove group members\n",
    "    - Share graphs with groups\n",
    "4. Managing layouts\n",
    "    - Sharing layouts\n",
    "    - Set default layout\n",
    "5. Publishing graphs\n",
    "6. Searching graphs on GraphSpace\n",
    "8. RESTful APIs\n",
    "    - Exploring and finding the right API\n",
    "    - Using RESTful APIs"
   ]
  },
  {
   "cell_type": "markdown",
   "metadata": {},
   "source": [
    "# Part 1. Setup required softwares\n",
    "\n",
    "\n",
    "## Install Jupyter/IPython notebook\n",
    "\n",
    "> The Jupyter Notebook is an interactive computing environment that enables users to author notebook documents that include: - Live code - Interactive widgets - Plots - Narrative text - Equations - Images - Video.\n",
    "\n",
    "### Install Jupyter \n",
    "\n",
    "Go to [Jupyter](http://jupyter.readthedocs.io/en/latest/install.html) and follow the instructions.\n",
    "\n",
    "### Start Jupyter\n",
    "\n",
    "1. Open command line and go the directory where you installed tutorial repository and start jupyter using the following command:\n",
    "```\n",
    "jupyter notebook\n",
    "```\n",
    "2. You should see the notebook open in your browser."
   ]
  },
  {
   "cell_type": "code",
   "execution_count": 112,
   "metadata": {
    "collapsed": true
   },
   "outputs": [],
   "source": [
    "# for Python 2: use print only as a function\n",
    "from __future__ import print_function"
   ]
  },
  {
   "cell_type": "code",
   "execution_count": 113,
   "metadata": {
    "collapsed": false
   },
   "outputs": [
    {
     "name": "stdout",
     "output_type": "stream",
     "text": [
      "Hello world\n"
     ]
    }
   ],
   "source": [
    "print(\"Hello world\")"
   ]
  },
  {
   "cell_type": "markdown",
   "metadata": {},
   "source": [
    "## Install `graphspace-python` package\n",
    "\n",
    "There are multiple ways to install `graphspace_python` package.\n",
    "\n",
    "    \n",
    "##### a. Use pip (recommended)\n",
    "```\n",
    "pip install graphspace_python\n",
    "```\n",
    "    \n",
    "##### b. Install manually from PyPi package\n",
    "```\n",
    "https://pypi.python.org/pypi/graphspace_python\n",
    "```\n",
    "\n",
    "##### c. Install the latest development version from GitHub\n",
    "```\n",
    "git clone https://github.com/adbharadwaj/graphspace-python.git\n",
    "```  "
   ]
  },
  {
   "cell_type": "code",
   "execution_count": 206,
   "metadata": {
    "collapsed": true
   },
   "outputs": [
    {
     "name": "stdout",
     "output_type": "stream",
     "text": [
      "Collecting graphspace_python==0.8.2\n",
      "  Downloading graphspace_python-0.8.2.tar.gz\n",
      "Requirement already satisfied: future in /Users/adb/anaconda3/lib/python3.5/site-packages (from graphspace_python==0.8.2)\n",
      "Requirement already satisfied: networkx==1.11 in /Users/adb/anaconda3/lib/python3.5/site-packages (from graphspace_python==0.8.2)\n",
      "Requirement already satisfied: requests==2.10.0 in /Users/adb/anaconda3/lib/python3.5/site-packages (from graphspace_python==0.8.2)\n",
      "Requirement already satisfied: sphinx-rtd-theme in /Users/adb/anaconda3/lib/python3.5/site-packages (from graphspace_python==0.8.2)\n",
      "Requirement already satisfied: sphinx in /Users/adb/anaconda3/lib/python3.5/site-packages/Sphinx-1.4.6-py3.5.egg (from graphspace_python==0.8.2)\n",
      "Requirement already satisfied: recommonmark in /Users/adb/anaconda3/lib/python3.5/site-packages (from graphspace_python==0.8.2)\n",
      "Requirement already satisfied: pytest in /Users/adb/anaconda3/lib/python3.5/site-packages (from graphspace_python==0.8.2)\n",
      "Requirement already satisfied: mock in /Users/adb/anaconda3/lib/python3.5/site-packages/mock-2.0.0-py3.5.egg (from graphspace_python==0.8.2)\n",
      "Requirement already satisfied: decorator>=3.4.0 in /Users/adb/anaconda3/lib/python3.5/site-packages (from networkx==1.11->graphspace_python==0.8.2)\n",
      "Requirement already satisfied: six>=1.5 in /Users/adb/anaconda3/lib/python3.5/site-packages (from sphinx->graphspace_python==0.8.2)\n",
      "Requirement already satisfied: Jinja2>=2.3 in /Users/adb/anaconda3/lib/python3.5/site-packages (from sphinx->graphspace_python==0.8.2)\n",
      "Requirement already satisfied: Pygments>=2.0 in /Users/adb/anaconda3/lib/python3.5/site-packages (from sphinx->graphspace_python==0.8.2)\n",
      "Requirement already satisfied: docutils>=0.11 in /Users/adb/anaconda3/lib/python3.5/site-packages (from sphinx->graphspace_python==0.8.2)\n",
      "Requirement already satisfied: snowballstemmer>=1.1 in /Users/adb/anaconda3/lib/python3.5/site-packages (from sphinx->graphspace_python==0.8.2)\n",
      "Requirement already satisfied: babel!=2.0,>=1.3 in /Users/adb/anaconda3/lib/python3.5/site-packages (from sphinx->graphspace_python==0.8.2)\n",
      "Requirement already satisfied: alabaster<0.8,>=0.7 in /Users/adb/anaconda3/lib/python3.5/site-packages (from sphinx->graphspace_python==0.8.2)\n",
      "Requirement already satisfied: imagesize in /Users/adb/anaconda3/lib/python3.5/site-packages (from sphinx->graphspace_python==0.8.2)\n",
      "Requirement already satisfied: commonmark<=0.5.4 in /Users/adb/anaconda3/lib/python3.5/site-packages (from recommonmark->graphspace_python==0.8.2)\n",
      "Requirement already satisfied: py>=1.4.29 in /Users/adb/anaconda3/lib/python3.5/site-packages (from pytest->graphspace_python==0.8.2)\n",
      "Requirement already satisfied: pbr>=0.11 in /Users/adb/anaconda3/lib/python3.5/site-packages/pbr-3.1.1-py3.5.egg (from mock->graphspace_python==0.8.2)\n",
      "Requirement already satisfied: MarkupSafe in /Users/adb/anaconda3/lib/python3.5/site-packages (from Jinja2>=2.3->sphinx->graphspace_python==0.8.2)\n",
      "Requirement already satisfied: pytz>=0a in /Users/adb/anaconda3/lib/python3.5/site-packages (from babel!=2.0,>=1.3->sphinx->graphspace_python==0.8.2)\n",
      "Building wheels for collected packages: graphspace-python\n",
      "  Running setup.py bdist_wheel for graphspace-python ... \u001b[?25l-\b \b\\\b \bdone\n",
      "\u001b[?25h  Stored in directory: /Users/adb/Library/Caches/pip/wheels/30/3a/24/b1df4699949d8c01c80e25868541d3f89f385f69f8a44e4a95\n",
      "Successfully built graphspace-python\n",
      "Installing collected packages: graphspace-python\n",
      "  Found existing installation: graphspace-python 0.8.1\n",
      "    Uninstalling graphspace-python-0.8.1:\n",
      "      Successfully uninstalled graphspace-python-0.8.1\n",
      "Successfully installed graphspace-python-0.8.2\n"
     ]
    }
   ],
   "source": [
    "!pip install graphspace_python==0.8.2\n",
    "# import sys\n",
    "# sys.path.insert(0, \"/Users/adb/Documents/dev/python-packages/graphspace-python\")\n",
    "# import graphspace_python"
   ]
  },
  {
   "cell_type": "markdown",
   "metadata": {},
   "source": [
    "# Part 2: Introduction to python programming"
   ]
  },
  {
   "cell_type": "markdown",
   "metadata": {
    "collapsed": true
   },
   "source": [
    ">  Python is an interpreted, general-purpose high-level programming language whose design philosophy emphasises code readability"
   ]
  },
  {
   "cell_type": "markdown",
   "metadata": {},
   "source": [
    "## Lists\n",
    "\n",
    "Lists are the most commonly used data structure. Think of it as a sequence of data that is enclosed in square brackets and data are separated by a comma. Each of these data can be accessed by calling it's index value."
   ]
  },
  {
   "cell_type": "code",
   "execution_count": 115,
   "metadata": {
    "collapsed": true
   },
   "outputs": [],
   "source": [
    "l = []\n",
    "# l = list()"
   ]
  },
  {
   "cell_type": "code",
   "execution_count": 116,
   "metadata": {
    "collapsed": true
   },
   "outputs": [],
   "source": [
    "l = ['apple', 'orange', 123] "
   ]
  },
  {
   "cell_type": "code",
   "execution_count": 117,
   "metadata": {
    "collapsed": false
   },
   "outputs": [
    {
     "name": "stdout",
     "output_type": "stream",
     "text": [
      "['apple', 'orange', 123]\n"
     ]
    }
   ],
   "source": [
    "print(l)"
   ]
  },
  {
   "cell_type": "markdown",
   "metadata": {},
   "source": [
    "In python, Indexing starts from 0. Thus now the list `l`, which has three elements will have apple at 0 index, orange at 1 index and 123 at 2 index."
   ]
  },
  {
   "cell_type": "code",
   "execution_count": 118,
   "metadata": {
    "collapsed": false
   },
   "outputs": [
    {
     "name": "stdout",
     "output_type": "stream",
     "text": [
      "apple orange\n"
     ]
    }
   ],
   "source": [
    "print(l[0], l[1])"
   ]
  },
  {
   "cell_type": "markdown",
   "metadata": {},
   "source": [
    "## Tuple\n",
    "\n",
    "Tuples are similar to lists but only big difference is the elements inside a list can be changed but in tuple it cannot be changed."
   ]
  },
  {
   "cell_type": "code",
   "execution_count": 119,
   "metadata": {
    "collapsed": true
   },
   "outputs": [],
   "source": [
    "tup = ()\n",
    "#tup = tuple()"
   ]
  },
  {
   "cell_type": "markdown",
   "metadata": {},
   "source": [
    "Values can be assigned while declaring a tuple. It takes a list as input and converts it into a tuple or it takes a string and converts it into a tuple."
   ]
  },
  {
   "cell_type": "code",
   "execution_count": 120,
   "metadata": {
    "collapsed": false
   },
   "outputs": [
    {
     "name": "stdout",
     "output_type": "stream",
     "text": [
      "(1, 2, 3)\n",
      "('H', 'e', 'l', 'l', 'o')\n"
     ]
    }
   ],
   "source": [
    "tup3 = tuple([1,2,3])\n",
    "print(tup3)\n",
    "tup4 = tuple('Hello')\n",
    "print(tup4)"
   ]
  },
  {
   "cell_type": "markdown",
   "metadata": {},
   "source": [
    "## Dictionaries\n",
    "\n",
    "\n",
    "Dictionaries are more used like a database because here you can index a particular sequence with your user defined string."
   ]
  },
  {
   "cell_type": "code",
   "execution_count": 121,
   "metadata": {
    "collapsed": true
   },
   "outputs": [],
   "source": [
    "data = {}\n",
    "# data = dict()"
   ]
  },
  {
   "cell_type": "code",
   "execution_count": 122,
   "metadata": {
    "collapsed": false
   },
   "outputs": [
    {
     "name": "stdout",
     "output_type": "stream",
     "text": [
      "{'firstname': 'Aditya', 'lastname': 'Bharadwaj', 'age': 25}\n"
     ]
    }
   ],
   "source": [
    "data['firstname'] = 'Aditya'\n",
    "data['lastname'] = 'Bharadwaj'\n",
    "data['age'] = 25\n",
    "\n",
    "print(data)"
   ]
  },
  {
   "cell_type": "markdown",
   "metadata": {},
   "source": [
    "## Loops\n",
    "\n",
    "```\n",
    "for variable in something:\n",
    "    algorithm\n",
    "```"
   ]
  },
  {
   "cell_type": "code",
   "execution_count": 123,
   "metadata": {
    "collapsed": false
   },
   "outputs": [
    {
     "name": "stdout",
     "output_type": "stream",
     "text": [
      "1\n",
      "2\n",
      "3\n",
      "4\n",
      "5\n"
     ]
    }
   ],
   "source": [
    "for i in [1,2,3,4,5]:\n",
    "    print(i)"
   ]
  },
  {
   "cell_type": "code",
   "execution_count": 124,
   "metadata": {
    "collapsed": true
   },
   "outputs": [],
   "source": [
    "from graphspace_python.graphs.classes.gsgraph import GSGraph\n",
    "from graphspace_python.graphs.classes.gslayout import GSLayout\n",
    "from graphspace_python.api.client import GraphSpace\n",
    "from graphspace_python.graphs.classes.gsgroup import GSGroup\n",
    "%matplotlib inline"
   ]
  },
  {
   "cell_type": "markdown",
   "metadata": {},
   "source": [
    "# Part 3: Creating and uploading graphs"
   ]
  },
  {
   "cell_type": "markdown",
   "metadata": {},
   "source": [
    "## Basic concepts in NetworkX\n",
    "\n",
    "\n",
    "\n",
    "> **NetworkX** is a Python package for the creation, manipulation, and study of the structure, dynamics, and functions of complex networks.\n",
    "\n",
    "Documentation is available at [https://networkx.readthedocs.io/en/stable/](https://networkx.readthedocs.io/en/stable/)\n"
   ]
  },
  {
   "cell_type": "markdown",
   "metadata": {},
   "source": [
    "###### Create an empty graph"
   ]
  },
  {
   "cell_type": "code",
   "execution_count": 125,
   "metadata": {
    "collapsed": false
   },
   "outputs": [],
   "source": [
    "import networkx as nx\n",
    "G = nx.DiGraph()"
   ]
  },
  {
   "cell_type": "code",
   "execution_count": 126,
   "metadata": {
    "collapsed": false
   },
   "outputs": [],
   "source": [
    "# Add a node\n",
    "\n",
    "G.add_node('a')"
   ]
  },
  {
   "cell_type": "code",
   "execution_count": 127,
   "metadata": {
    "collapsed": true
   },
   "outputs": [],
   "source": [
    "# Add multiple nodes\n",
    "\n",
    "G.add_nodes_from(['b', 'c', 'd'])"
   ]
  },
  {
   "cell_type": "code",
   "execution_count": 128,
   "metadata": {
    "collapsed": false
   },
   "outputs": [
    {
     "data": {
      "text/plain": [
       "['a', 'c', 'd', 'b']"
      ]
     },
     "execution_count": 128,
     "metadata": {},
     "output_type": "execute_result"
    }
   ],
   "source": [
    "G.nodes()"
   ]
  },
  {
   "cell_type": "code",
   "execution_count": 129,
   "metadata": {
    "collapsed": false
   },
   "outputs": [],
   "source": [
    "# Remove node from the graph\n",
    "\n",
    "G.remove_node('d')"
   ]
  },
  {
   "cell_type": "code",
   "execution_count": 130,
   "metadata": {
    "collapsed": false
   },
   "outputs": [
    {
     "data": {
      "text/plain": [
       "['a', 'c', 'b']"
      ]
     },
     "execution_count": 130,
     "metadata": {},
     "output_type": "execute_result"
    }
   ],
   "source": [
    "G.nodes()"
   ]
  },
  {
   "cell_type": "code",
   "execution_count": 131,
   "metadata": {
    "collapsed": true
   },
   "outputs": [],
   "source": [
    "# Add edges to the graph\n",
    "\n",
    "G.add_edge('a', 'b')\n",
    "G.add_edges_from([('b','c'), ('c', 'a')])"
   ]
  },
  {
   "cell_type": "code",
   "execution_count": 132,
   "metadata": {
    "collapsed": false
   },
   "outputs": [
    {
     "data": {
      "text/plain": [
       "[('a', 'b'), ('c', 'a'), ('b', 'c')]"
      ]
     },
     "execution_count": 132,
     "metadata": {},
     "output_type": "execute_result"
    }
   ],
   "source": [
    "G.edges()"
   ]
  },
  {
   "cell_type": "code",
   "execution_count": 133,
   "metadata": {
    "collapsed": false
   },
   "outputs": [],
   "source": [
    "# Remove edge from the graph\n",
    "\n",
    "G.remove_edge('c', 'a')"
   ]
  },
  {
   "cell_type": "code",
   "execution_count": 134,
   "metadata": {
    "collapsed": false
   },
   "outputs": [
    {
     "data": {
      "text/plain": [
       "[('a', 'b'), ('b', 'c')]"
      ]
     },
     "execution_count": 134,
     "metadata": {},
     "output_type": "execute_result"
    }
   ],
   "source": [
    "G.edges()"
   ]
  },
  {
   "cell_type": "code",
   "execution_count": 135,
   "metadata": {
    "collapsed": false
   },
   "outputs": [
    {
     "name": "stdout",
     "output_type": "stream",
     "text": [
      "Name: \n",
      "Type: DiGraph\n",
      "Number of nodes: 3\n",
      "Number of edges: 2\n",
      "Average in degree:   0.6667\n",
      "Average out degree:   0.6667\n"
     ]
    }
   ],
   "source": [
    "# Get Graph Info\n",
    "\n",
    "print(nx.info(G))"
   ]
  },
  {
   "cell_type": "markdown",
   "metadata": {},
   "source": [
    "## NetworkX with Matplotlib¶\n",
    "\n",
    "Pros:\n",
    "- Easy\n",
    "- Some customization\n",
    "\n",
    "\n",
    "Cons:\n",
    "- Looks \"dated\" (not great for publication / productizing)\n",
    "- Not interactive\n",
    "- Few Layout Options"
   ]
  },
  {
   "cell_type": "code",
   "execution_count": 136,
   "metadata": {
    "collapsed": false
   },
   "outputs": [
    {
     "data": {
      "image/png": "[encoded data removed]",
      "text/plain": [
       "<matplotlib.figure.Figure at 0x113eff080>"
      ]
     },
     "metadata": {},
     "output_type": "display_data"
    }
   ],
   "source": [
    "nx.draw(G, with_labels=True)"
   ]
  },
  {
   "cell_type": "markdown",
   "metadata": {},
   "source": [
    "## Uploading your network to GraphSpace"
   ]
  },
  {
   "cell_type": "markdown",
   "metadata": {},
   "source": [
    "First you need to connect to GraphSpace using your username and password."
   ]
  },
  {
   "cell_type": "code",
   "execution_count": 137,
   "metadata": {
    "collapsed": true
   },
   "outputs": [],
   "source": [
    "graphspace = GraphSpace('user6@example.com', 'user6')\n",
    "# graphspace = GraphSpace('user2@example.com', 'user2')\n",
    "# graphspace.set_api_host('localhost:8000')"
   ]
  },
  {
   "cell_type": "markdown",
   "metadata": {},
   "source": [
    "Once you are connected, you can use this connection to post/upload your graphs to GraphSpace."
   ]
  },
  {
   "cell_type": "code",
   "execution_count": 138,
   "metadata": {
    "collapsed": false
   },
   "outputs": [],
   "source": [
    "graph = graphspace.post_graph(GSGraph(G))"
   ]
  },
  {
   "cell_type": "code",
   "execution_count": 141,
   "metadata": {
    "collapsed": false
   },
   "outputs": [
    {
     "name": "stdout",
     "output_type": "stream",
     "text": [
      "http://graphspace.org/graphs/22610\n"
     ]
    }
   ],
   "source": [
    "print(graph.url)"
   ]
  },
  {
   "cell_type": "markdown",
   "metadata": {},
   "source": [
    "![network-without-label](images/network-without-label.png)"
   ]
  },
  {
   "cell_type": "markdown",
   "metadata": {},
   "source": [
    "## Updating your network on GraphSpace"
   ]
  },
  {
   "cell_type": "code",
   "execution_count": 145,
   "metadata": {
    "collapsed": false
   },
   "outputs": [
    {
     "name": "stdout",
     "output_type": "stream",
     "text": [
      "http://graphspace.org/graphs/22610\n"
     ]
    }
   ],
   "source": [
    "# Update the name of the graph\n",
    "\n",
    "graph.set_name('My First Graph')\n",
    "graph = graphspace.update_graph(graph)\n",
    "print(graph.url)"
   ]
  },
  {
   "cell_type": "markdown",
   "metadata": {},
   "source": [
    "## Adding and Inspecting Attributes"
   ]
  },
  {
   "cell_type": "code",
   "execution_count": 146,
   "metadata": {
    "collapsed": false
   },
   "outputs": [],
   "source": [
    "G = nx.DiGraph()\n",
    "\n",
    "# add at creation\n",
    "# nodes\n",
    "G.add_node('a', favorite_color='yellow')\n",
    "\n",
    "G.add_nodes_from([('b', {'favorite_color' : 'green'}),\n",
    "                  ('c', {'favorite_color' :'red'})])\n",
    "\n",
    "# edges\n",
    "G.add_edge('a', 'b', {'relationship' : 'friends'})\n",
    "G.add_edge('b', 'c', {'relationship' : 'enemy'})"
   ]
  },
  {
   "cell_type": "code",
   "execution_count": 147,
   "metadata": {
    "collapsed": false
   },
   "outputs": [
    {
     "name": "stdout",
     "output_type": "stream",
     "text": [
      "Node 'a' attributes: {'favorite_color': 'yellow'}\n",
      "Edge a-b attributes: {'relationship': 'friends'}\n"
     ]
    }
   ],
   "source": [
    "# accessing node attributes\n",
    "print(\"Node 'a' attributes:\", G.node['a'])\n",
    "\n",
    "# accessing edge attributes\n",
    "print(\"Edge a-b attributes:\", G.edge['a']['b'])"
   ]
  },
  {
   "cell_type": "markdown",
   "metadata": {},
   "source": [
    "## Adding node labels"
   ]
  },
  {
   "cell_type": "code",
   "execution_count": 148,
   "metadata": {
    "collapsed": true
   },
   "outputs": [],
   "source": [
    "label = {\n",
    "    'a' : 'A',\n",
    "    'b' : 'B',\n",
    "    'c' : 'C'\n",
    "}"
   ]
  },
  {
   "cell_type": "code",
   "execution_count": 149,
   "metadata": {
    "collapsed": false
   },
   "outputs": [
    {
     "name": "stdout",
     "output_type": "stream",
     "text": [
      "Node a's label is A\n"
     ]
    }
   ],
   "source": [
    "nx.set_node_attributes(G, 'label', label)\n",
    "print(\"Node a's label is %s\" % G.node['a']['label'])"
   ]
  },
  {
   "cell_type": "code",
   "execution_count": 150,
   "metadata": {
    "collapsed": false
   },
   "outputs": [
    {
     "name": "stdout",
     "output_type": "stream",
     "text": [
      "http://graphspace.org/graphs/22610\n"
     ]
    }
   ],
   "source": [
    "graph = graphspace.update_graph(GSGraph(G), graph_id=graph.id)\n",
    "print(graph.url)"
   ]
  },
  {
   "cell_type": "markdown",
   "metadata": {},
   "source": [
    "![network-with-labels](images/network-with-labels.png)"
   ]
  },
  {
   "cell_type": "markdown",
   "metadata": {},
   "source": [
    "## Adding graph information\n",
    "\n",
    "GraphSpace gives users the freedom to include any attributes such as `name`, `title`, `description`, and `tags` that best characterize the network.\n",
    "\n",
    "Refer to [Graph Data Attributes](http://manual.graphspace.org/en/latest/GraphSpace_Network_Model.html#graph-data-attributes) to learn more about adding information about the graph."
   ]
  },
  {
   "cell_type": "code",
   "execution_count": 153,
   "metadata": {
    "collapsed": false
   },
   "outputs": [
    {
     "name": "stdout",
     "output_type": "stream",
     "text": [
      "http://graphspace.org/graphs/22610\n"
     ]
    }
   ],
   "source": [
    "graph.set_name('My First Graph')\n",
    "# Add tags\n",
    "graph.set_tags(['icsb2017', 'tutorial'])\n",
    "# Add any number of attributes that best characterize the network\n",
    "graph.set_data({\n",
    "        'author': 'Aditya Bharadwaj',\n",
    "        'contact_email': 'adb@vt.edu',\n",
    "        'description': \"This graph was posted during ICSB 2017 workshop on GraphSpace\"\n",
    "    })\n",
    "\n",
    "graph = graphspace.update_graph(graph, graph_id=graph.id)\n",
    "print(graph.url)"
   ]
  },
  {
   "cell_type": "markdown",
   "metadata": {},
   "source": [
    "## Adding visual styles to nodes\n",
    "\n",
    "\n",
    "**color** (str, optional): Hexadecimal representation of the color (e.g., #FFFFFF) or color name. Defaults to white.\n",
    "\n",
    "**shape** (str, optional): Shape of node. Defaults to 'ellipse'\n",
    "\n",
    "##### List of allowed node shapes\n",
    "\n",
    "- ellipse (default)\n",
    "- rectangle\n",
    "- roundrectangle \n",
    "- triangle\n",
    "- pentagon\n",
    "- hexagon\n",
    "- heptagon\n",
    "- octagon\n",
    "- star\n",
    "- diamond\n",
    "- vee\n",
    "- rhomboid"
   ]
  },
  {
   "cell_type": "code",
   "execution_count": 154,
   "metadata": {
    "collapsed": false
   },
   "outputs": [
    {
     "name": "stdout",
     "output_type": "stream",
     "text": [
      "http://graphspace.org/graphs/22610\n"
     ]
    }
   ],
   "source": [
    "for n in graph.nodes():\n",
    "    graph.add_node_style(n, shape='rectangle', color=G.node[n]['favorite_color'], width=100, height=100)\n",
    "\n",
    "graph = graphspace.update_graph(graph)\n",
    "print(graph.url)"
   ]
  },
  {
   "cell_type": "markdown",
   "metadata": {},
   "source": [
    "![](images/network-with-node-style.png)"
   ]
  },
  {
   "cell_type": "markdown",
   "metadata": {},
   "source": [
    "## Adding visual style to edges\n",
    "\n",
    "**edge_style** (str, optional): Style of edge. Defaults to 'solid'.\n",
    "\n",
    "##### List of allowed edge styles\n",
    "- solid (default)\n",
    "- dotted\n",
    "- dashed"
   ]
  },
  {
   "cell_type": "code",
   "execution_count": 155,
   "metadata": {
    "collapsed": false
   },
   "outputs": [
    {
     "name": "stdout",
     "output_type": "stream",
     "text": [
      "http://graphspace.org/graphs/22610\n"
     ]
    }
   ],
   "source": [
    "graph.add_edge_style('a', 'b', directed=False, edge_style='solid', width=10.0, color='blue')\n",
    "graph.add_edge_style('b', 'c', directed=False, edge_style='dashed', width=10.0, color='red')\n",
    "    \n",
    "graph = graphspace.update_graph(graph)\n",
    "print(graph.url)"
   ]
  },
  {
   "cell_type": "markdown",
   "metadata": {},
   "source": [
    "![](images/network-with-edge-style.png)"
   ]
  },
  {
   "cell_type": "markdown",
   "metadata": {},
   "source": [
    "## Adding annotations to nodes and edges\n",
    "\n",
    "##### 'popup' attribute\n",
    "\n",
    "A string that will be displayed in a popup window when the user clicks the node/edge. This string can be HTML-formatted information, e.g., Gene Ontology annotations and database links for a protein; or types, mechanism, and database sources for an interaction."
   ]
  },
  {
   "cell_type": "code",
   "execution_count": 157,
   "metadata": {
    "collapsed": false
   },
   "outputs": [
    {
     "name": "stdout",
     "output_type": "stream",
     "text": [
      "http://graphspace.org/graphs/22610\n"
     ]
    }
   ],
   "source": [
    "graph.node['a']['popup'] = 'Node A'\n",
    "graph.node['b']['popup'] = 'Node B'\n",
    "graph.node['c']['popup'] = 'Node C'\n",
    "\n",
    "graph['a']['b']['popup'] = 'Friends'\n",
    "graph['b']['c']['popup'] = 'Enemy'\n",
    "\n",
    "graph = graphspace.update_graph(graph)\n",
    "print(graph.url)"
   ]
  },
  {
   "cell_type": "markdown",
   "metadata": {},
   "source": [
    "![](images/network-with-popups.png)"
   ]
  },
  {
   "cell_type": "code",
   "execution_count": 159,
   "metadata": {
    "collapsed": false
   },
   "outputs": [
    {
     "name": "stdout",
     "output_type": "stream",
     "text": [
      "http://graphspace.org/graphs/22610\n"
     ]
    }
   ],
   "source": [
    "# HTML formated popups\n",
    "\n",
    "graph['a']['b']['popup'] = '<h3>Edge between A and B</h3> <br/> Relationship: Friends'\n",
    "graph['b']['c']['popup'] = '<h3>Edge between B and C</h3> <br/> Relationship: Enemy'\n",
    "\n",
    "graph = graphspace.update_graph(graph)\n",
    "print(graph.url)"
   ]
  },
  {
   "cell_type": "code",
   "execution_count": 170,
   "metadata": {
    "collapsed": false
   },
   "outputs": [
    {
     "name": "stdout",
     "output_type": "stream",
     "text": [
      "http://graphspace.org/graphs/22610\n"
     ]
    }
   ],
   "source": [
    "# You can attach images to popups\n",
    "\n",
    "graph.node['a']['popup'] = '<h3>Node A</h3> <br/> <img height=\"250\" src=\"http://clipart-library.com/image_gallery/111572.png\" alt=\"Image A\" />'\n",
    "graph.node['b']['popup'] = '<h3>Node B</h3> <br/> <img height=\"250\"src=\"http://clipart-library.com/data_images/27903.png\" alt=\"Image B\" />'\n",
    "graph.node['c']['popup'] = '<h3>Node C</h3> <br/> <img height=\"250\" src=\"http://images.clipartpanda.com/boy-clipart-9a67af7554253b6a9b7014c36c348f09.jpg\" alt=\"Image C\" />'\n",
    "\n",
    "graph = graphspace.update_graph(graph)\n",
    "print(graph.url)"
   ]
  },
  {
   "cell_type": "code",
   "execution_count": 168,
   "metadata": {
    "collapsed": false
   },
   "outputs": [
    {
     "name": "stdout",
     "output_type": "stream",
     "text": [
      "http://graphspace.org/graphs/22610\n"
     ]
    }
   ],
   "source": [
    "# HTML formated popups\n",
    "\n",
    "graph['a']['b']['popup'] = '<h3>Edge between A and B</h3> <br/> Relationship: <a href=\"https://en.m.wikipedia.org/wiki/Friendship\">Friends</a>  <iframe src=\"https://en.m.wikipedia.org/wiki/Friendship\" scrolling=\"auto\" width=\"100%\" height=\"500\"></iframe>'\n",
    "graph['b']['c']['popup'] = '<h3>Edge between B and C</h3> <br/> Relationship: <a href=\"https://en.m.wikipedia.org/wiki/Enemy\">Enemy</a>  <iframe src=\"https://en.m.wikipedia.org/wiki/Enemy\" scrolling=\"auto\" width=\"100%\" height=\"500\"></iframe>'\n",
    "\n",
    "graph = graphspace.update_graph(graph)\n",
    "print(graph.url)"
   ]
  },
  {
   "cell_type": "markdown",
   "metadata": {},
   "source": [
    "## Laying out nodes\n"
   ]
  },
  {
   "cell_type": "code",
   "execution_count": 171,
   "metadata": {
    "collapsed": false
   },
   "outputs": [
    {
     "name": "stdout",
     "output_type": "stream",
     "text": [
      "http://graphspace.org/graphs/22610\n"
     ]
    }
   ],
   "source": [
    "# Position nodes in a vertical alignment.\n",
    "graph.set_node_position('a', y=0, x=0)\n",
    "graph.set_node_position('b', y=250, x=0)\n",
    "graph.set_node_position('c', y=500, x=0)\n",
    "\n",
    "graph = graphspace.update_graph(graph)\n",
    "print(graph.url)"
   ]
  },
  {
   "cell_type": "markdown",
   "metadata": {},
   "source": [
    "![](images/network-with-vertical-layout.png)"
   ]
  },
  {
   "cell_type": "markdown",
   "metadata": {},
   "source": [
    "## Specifying weights on edges"
   ]
  },
  {
   "cell_type": "code",
   "execution_count": 172,
   "metadata": {
    "collapsed": false
   },
   "outputs": [
    {
     "data": {
      "text/plain": [
       "[('a',\n",
       "  'b',\n",
       "  {'is_directed': False,\n",
       "   'name': 'a-b',\n",
       "   'popup': '<h3>Edge between A and B</h3> <br/> Relationship: <a href=\"https://en.m.wikipedia.org/wiki/Friendship\">Friends</a>  <iframe src=\"https://en.m.wikipedia.org/wiki/Friendship\" scrolling=\"auto\" width=\"100%\" height=\"500\"></iframe>',\n",
       "   'relationship': 'friends',\n",
       "   'source': 'a',\n",
       "   'target': 'b',\n",
       "   'weight': 5}),\n",
       " ('b',\n",
       "  'c',\n",
       "  {'is_directed': False,\n",
       "   'name': 'b-c',\n",
       "   'popup': '<h3>Edge between B and C</h3> <br/> Relationship: <a href=\"https://en.m.wikipedia.org/wiki/Enemy\">Enemy</a>  <iframe src=\"https://en.m.wikipedia.org/wiki/Enemy\" scrolling=\"auto\" width=\"100%\" height=\"500\"></iframe>',\n",
       "   'relationship': 'enemy',\n",
       "   'source': 'b',\n",
       "   'target': 'c',\n",
       "   'weight': 10})]"
      ]
     },
     "execution_count": 172,
     "metadata": {},
     "output_type": "execute_result"
    }
   ],
   "source": [
    "# G.add_edge('a', 'b', weight=5)\n",
    "# G.add_edge('b', 'c', weight=10)\n",
    "graph['a']['b']['weight']  = 5\n",
    "graph['b']['c']['weight']  = 10\n",
    "graph.edges(data=True)"
   ]
  },
  {
   "cell_type": "code",
   "execution_count": 173,
   "metadata": {
    "collapsed": false
   },
   "outputs": [
    {
     "name": "stdout",
     "output_type": "stream",
     "text": [
      "http://graphspace.org/graphs/22610\n"
     ]
    }
   ],
   "source": [
    "graph = graphspace.update_graph(graph, graph_id=graph.id)\n",
    "print(graph.url)"
   ]
  },
  {
   "cell_type": "markdown",
   "metadata": {},
   "source": [
    "#####  Note: If you add weights as a edge property, it will not reflect on graph visualization automatically.\n",
    "\n",
    "![](images/network-with-vertical-layout.png)"
   ]
  },
  {
   "cell_type": "code",
   "execution_count": 174,
   "metadata": {
    "collapsed": false
   },
   "outputs": [],
   "source": [
    "# Laying out edges with width propotional to edge weight.\n",
    "\n",
    "graph.add_edge_style('a', 'b', directed=False, edge_style='solid', width=graph['a']['b']['weight'], color='blue')\n",
    "graph.add_edge_style('b', 'c', directed=False, edge_style='dashed', width=graph['b']['c']['weight'], color='red')"
   ]
  },
  {
   "cell_type": "code",
   "execution_count": 175,
   "metadata": {
    "collapsed": false
   },
   "outputs": [
    {
     "name": "stdout",
     "output_type": "stream",
     "text": [
      "http://graphspace.org/graphs/22610\n"
     ]
    }
   ],
   "source": [
    "graph = graphspace.update_graph(graph)\n",
    "print(graph.url)"
   ]
  },
  {
   "cell_type": "markdown",
   "metadata": {},
   "source": [
    "![](images/network-with-varying-edge-width.png)"
   ]
  },
  {
   "cell_type": "markdown",
   "metadata": {},
   "source": [
    "# Part 4: Managing collaborative groups and sharing graphs\n",
    "\n",
    "A **group** is a collection of GraphSpace users. For example, if there are multiple researchers who are collaborating a project, a group may be created containing all of them. \n",
    "\n",
    "A **group owner** is the creator of the group. Any GraphSpace user can create a group by visiting the Groups page and clicking the “Create group” button. The group owner may\n",
    "\n",
    "- Invite any GraphSpace user that has an account to be a member of their group.\n",
    "- Remove any member from the group.\n",
    "- Unshare any graph that has already been shared by the members of the group\n",
    "\n",
    "A **group member** is a user who is a part of a group. (A group owner is trivially a member of the group.) A group member may\n",
    "\n",
    "- Share a graph owned by him or her with a group.\n",
    "- Unshare a previously shared graph.\n",
    "- Share a layout for a previously shared graph.\n",
    "- Unshare a previously shared layout."
   ]
  },
  {
   "cell_type": "markdown",
   "metadata": {},
   "source": [
    "## Creating groups"
   ]
  },
  {
   "cell_type": "code",
   "execution_count": 177,
   "metadata": {
    "collapsed": false
   },
   "outputs": [],
   "source": [
    "group = graphspace.post_group(GSGroup(name='My first group', description='sample group'))"
   ]
  },
  {
   "cell_type": "code",
   "execution_count": 178,
   "metadata": {
    "collapsed": false
   },
   "outputs": [
    {
     "name": "stdout",
     "output_type": "stream",
     "text": [
      "http://graphspace.org/groups/330\n"
     ]
    }
   ],
   "source": [
    "print(group.url)"
   ]
  },
  {
   "cell_type": "markdown",
   "metadata": {},
   "source": [
    "## Adding and removing group members"
   ]
  },
  {
   "cell_type": "code",
   "execution_count": 179,
   "metadata": {
    "collapsed": false
   },
   "outputs": [
    {
     "name": "stdout",
     "output_type": "stream",
     "text": [
      "user6@example.com\n"
     ]
    }
   ],
   "source": [
    "# Initially a group is created with the group owner as a member.\n",
    "\n",
    "for member in graphspace.get_group_members(group=group):\n",
    "    print(member.email)"
   ]
  },
  {
   "cell_type": "code",
   "execution_count": 180,
   "metadata": {
    "collapsed": false
   },
   "outputs": [],
   "source": [
    "# Group owner can add existing users by their GraphSpace usernames\n",
    "\n",
    "for email in ['adb@vt.edu', 'adb@cs.vt.edu']:\n",
    "    graphspace.add_group_member(group=group, member_email=email)"
   ]
  },
  {
   "cell_type": "code",
   "execution_count": 181,
   "metadata": {
    "collapsed": false
   },
   "outputs": [
    {
     "name": "stdout",
     "output_type": "stream",
     "text": [
      "user6@example.com 320\n",
      "adb@cs.vt.edu 70\n",
      "adb@vt.edu 59\n"
     ]
    }
   ],
   "source": [
    "# Getting the list of all group members\n",
    "\n",
    "for member in graphspace.get_group_members(group=group):\n",
    "    print(member.email, member.id)"
   ]
  },
  {
   "cell_type": "code",
   "execution_count": 182,
   "metadata": {
    "collapsed": false
   },
   "outputs": [
    {
     "name": "stdout",
     "output_type": "stream",
     "text": [
      "http://graphspace.org/groups/330/join/?code=UANGVQJL7U\n"
     ]
    }
   ],
   "source": [
    "# Send the following invitation link to your collaborators (with/without GraphSpace accounts)\n",
    "\n",
    "print(group.invite_link)"
   ]
  },
  {
   "cell_type": "code",
   "execution_count": 183,
   "metadata": {
    "collapsed": false
   },
   "outputs": [
    {
     "data": {
      "text/plain": [
       "'Successfully deleted member with id=70 from group with id=330'"
      ]
     },
     "execution_count": 183,
     "metadata": {},
     "output_type": "execute_result"
    }
   ],
   "source": [
    "graphspace.delete_group_member(group=group, member_id=70)"
   ]
  },
  {
   "cell_type": "code",
   "execution_count": 184,
   "metadata": {
    "collapsed": false
   },
   "outputs": [
    {
     "name": "stdout",
     "output_type": "stream",
     "text": [
      "user6@example.com\n",
      "adb@vt.edu\n"
     ]
    }
   ],
   "source": [
    "for member in graphspace.get_group_members(group=group):\n",
    "    print(member.email)"
   ]
  },
  {
   "cell_type": "markdown",
   "metadata": {},
   "source": [
    "## Sharing graphs with the groups\n",
    "\n",
    "A user can share one or more graphs with groups to which the user belongs."
   ]
  },
  {
   "cell_type": "code",
   "execution_count": 185,
   "metadata": {
    "collapsed": false
   },
   "outputs": [
    {
     "data": {
      "text/plain": [
       "{'created_at': '2017-08-05T20:34:37.880489',\n",
       " 'graph_id': 22610,\n",
       " 'group_id': '330',\n",
       " 'updated_at': '2017-08-05T20:34:37.880489'}"
      ]
     },
     "execution_count": 185,
     "metadata": {},
     "output_type": "execute_result"
    }
   ],
   "source": [
    "graphspace.share_graph(graph=graph, group=group)"
   ]
  },
  {
   "cell_type": "code",
   "execution_count": 186,
   "metadata": {
    "collapsed": false
   },
   "outputs": [
    {
     "name": "stdout",
     "output_type": "stream",
     "text": [
      "user6@example.com My First Graph\n"
     ]
    }
   ],
   "source": [
    "for shared_graph in graphspace.get_group_graphs(group=group):\n",
    "    print(shared_graph.owner_email, shared_graph.name)"
   ]
  },
  {
   "cell_type": "markdown",
   "metadata": {},
   "source": [
    "## Unsharing graphs "
   ]
  },
  {
   "cell_type": "code",
   "execution_count": 187,
   "metadata": {
    "collapsed": false
   },
   "outputs": [
    {
     "data": {
      "text/plain": [
       "'Successfully deleted graph with id=22610 from group with id=330'"
      ]
     },
     "execution_count": 187,
     "metadata": {},
     "output_type": "execute_result"
    }
   ],
   "source": [
    "graphspace.unshare_graph(graph=graph, group=group)"
   ]
  },
  {
   "cell_type": "code",
   "execution_count": 188,
   "metadata": {
    "collapsed": true
   },
   "outputs": [],
   "source": [
    "# No graph is shared with the group at this point.\n",
    "\n",
    "for shared_graph in graphspace.get_group_graphs(group=group):\n",
    "    print(shared_graph.owner_email, shared_graph.name)"
   ]
  },
  {
   "cell_type": "markdown",
   "metadata": {},
   "source": [
    "# Part 5: Managing layouts"
   ]
  },
  {
   "cell_type": "markdown",
   "metadata": {},
   "source": [
    "## Creating and uploading layouts"
   ]
  },
  {
   "cell_type": "code",
   "execution_count": 189,
   "metadata": {
    "collapsed": true
   },
   "outputs": [],
   "source": [
    "L = GSLayout()\n",
    "# Assign different colors to nodes\n",
    "L.add_node_style('a', shape='ellipse', color='yellow', width=100, height=100)\n",
    "L.add_node_style('b', shape='triangle', color='green', width=100, height=100)\n",
    "L.add_node_style('c', shape='rectangle', color='red', width=100, height=100)\n",
    "L.add_edge_style('a', 'b', directed=False, edge_style='solid', width=5.0, color='blue')\n",
    "L.add_edge_style('b', 'c', directed=False, edge_style='dashed', width=5.0, color='red')\n",
    "\n",
    "# Position nodes in a vertical alignment.\n",
    "L.set_node_position('a', y=0, x=0)\n",
    "L.set_node_position('b', y=250, x=0)\n",
    "L.set_node_position('c', y=500, x=0)\n",
    "\n",
    "L.set_name('My First Layout')"
   ]
  },
  {
   "cell_type": "code",
   "execution_count": 190,
   "metadata": {
    "collapsed": false
   },
   "outputs": [],
   "source": [
    "layout = graphspace.post_graph_layout(graph_id=graph.id, layout=L)"
   ]
  },
  {
   "cell_type": "code",
   "execution_count": 191,
   "metadata": {
    "collapsed": false
   },
   "outputs": [
    {
     "name": "stdout",
     "output_type": "stream",
     "text": [
      "http://graphspace.org/graphs/22610?user_layout=1452\n"
     ]
    }
   ],
   "source": [
    "# Go to the following url o visualize the layout.\n",
    "print(layout.url)"
   ]
  },
  {
   "cell_type": "markdown",
   "metadata": {},
   "source": [
    "![](images/network-with-new-layout.png)"
   ]
  },
  {
   "cell_type": "code",
   "execution_count": 192,
   "metadata": {
    "collapsed": false
   },
   "outputs": [],
   "source": [
    "layout.set_node_position('a', y=0, x=0)\n",
    "layout.set_node_position('b', y=0, x=250)\n",
    "layout.set_node_position('c', y=0, x=500)\n",
    "layout = graphspace.update_graph_layout(graph_id=graph.id, layout=layout)"
   ]
  },
  {
   "cell_type": "code",
   "execution_count": 195,
   "metadata": {
    "collapsed": false
   },
   "outputs": [
    {
     "name": "stdout",
     "output_type": "stream",
     "text": [
      "http://graphspace.org/graphs/22610?user_layout=1452\n"
     ]
    }
   ],
   "source": [
    "# Go to the following url to visualize the layout.\n",
    "print(layout.url)"
   ]
  },
  {
   "cell_type": "markdown",
   "metadata": {},
   "source": [
    "![](images/network-with-horizontal-layout.png)"
   ]
  },
  {
   "cell_type": "markdown",
   "metadata": {},
   "source": [
    "## Set the layout as default"
   ]
  },
  {
   "cell_type": "code",
   "execution_count": 196,
   "metadata": {
    "collapsed": false
   },
   "outputs": [],
   "source": [
    "graph = graphspace.set_default_graph_layout(graph=graph, layout=layout)"
   ]
  },
  {
   "cell_type": "code",
   "execution_count": 197,
   "metadata": {
    "collapsed": false
   },
   "outputs": [
    {
     "name": "stdout",
     "output_type": "stream",
     "text": [
      "http://graphspace.org/graphs/22610\n"
     ]
    }
   ],
   "source": [
    "# You should see the above layout by default for the given graph.\n",
    "\n",
    "print(graph.url)"
   ]
  },
  {
   "cell_type": "markdown",
   "metadata": {},
   "source": [
    "## Sharing layouts"
   ]
  },
  {
   "cell_type": "code",
   "execution_count": 198,
   "metadata": {
    "collapsed": false
   },
   "outputs": [
    {
     "name": "stdout",
     "output_type": "stream",
     "text": [
      "My First Layout 1452\n"
     ]
    }
   ],
   "source": [
    "for mylayout in graphspace.get_my_graph_layouts(graph_id=graph.id):\n",
    "    print(mylayout.name, mylayout.id)"
   ]
  },
  {
   "cell_type": "markdown",
   "metadata": {},
   "source": [
    "Similarily you can also get the list of shared layouts using `get_shared_graph_layouts` method."
   ]
  },
  {
   "cell_type": "code",
   "execution_count": 199,
   "metadata": {
    "collapsed": false
   },
   "outputs": [
    {
     "name": "stdout",
     "output_type": "stream",
     "text": [
      "[]\n"
     ]
    }
   ],
   "source": [
    "layouts = graphspace.get_shared_graph_layouts(graph=graph)\n",
    "print(layouts)"
   ]
  },
  {
   "cell_type": "code",
   "execution_count": 200,
   "metadata": {
    "collapsed": false
   },
   "outputs": [],
   "source": [
    "layout.set_is_shared(1)\n",
    "layout = graphspace.update_graph_layout(graph=graph, layout=layout)"
   ]
  },
  {
   "cell_type": "code",
   "execution_count": 201,
   "metadata": {
    "collapsed": false
   },
   "outputs": [
    {
     "name": "stdout",
     "output_type": "stream",
     "text": [
      "['My First Layout']\n"
     ]
    }
   ],
   "source": [
    "print([l.name for l in graphspace.get_shared_graph_layouts(graph=graph)])"
   ]
  },
  {
   "cell_type": "markdown",
   "metadata": {},
   "source": [
    "# Part 6: Publishing graphs"
   ]
  },
  {
   "cell_type": "code",
   "execution_count": 202,
   "metadata": {
    "collapsed": false
   },
   "outputs": [
    {
     "name": "stdout",
     "output_type": "stream",
     "text": [
      "http://graphspace.org/graphs/22610\n"
     ]
    }
   ],
   "source": [
    "# Sharing the graph with everyone. This graph will show up in Public Graphs list.\n",
    "\n",
    "graph = graphspace.publish_graph(graph=graph)\n",
    "print(graph.url)"
   ]
  },
  {
   "cell_type": "code",
   "execution_count": 203,
   "metadata": {
    "collapsed": false
   },
   "outputs": [
    {
     "name": "stdout",
     "output_type": "stream",
     "text": [
      "http://graphspace.org/graphs/22610\n"
     ]
    }
   ],
   "source": [
    "# Unpublishing graphs\n",
    "\n",
    "graph = graphspace.unpublish_graph(graph_id=graph.id)\n",
    "print(graph.url)"
   ]
  },
  {
   "cell_type": "markdown",
   "metadata": {},
   "source": [
    "# Part 7: Searching graphs on GraphSpace\n",
    "\n",
    "You can search for graphs based on their visibility.\n",
    "- Graphs posted by you\n",
    "- Graphs shared with one of your groups\n",
    "- Graphs shared with everyone"
   ]
  },
  {
   "cell_type": "code",
   "execution_count": 204,
   "metadata": {
    "collapsed": false,
    "scrolled": true
   },
   "outputs": [
    {
     "name": "stdout",
     "output_type": "stream",
     "text": [
      "annaritz@vt.edu Wnt-Pathway-Reconstruction\n",
      "annaritz@vt.edu Wnt-pathlinker-top200paths-labeled\n",
      "annaritz@vt.edu Wnt-ipa-nmax10-labeled\n",
      "annaritz@vt.edu NetPath-Wnt-pathlinker-top200paths\n",
      "annaritz@vt.edu NetPath-TNFalpha-pathlinker-top200paths\n",
      "annaritz@vt.edu NetPath-TGF_beta_Receptor-pathlinker-top200paths\n",
      "annaritz@vt.edu NetPath-TCR-pathlinker-top200paths\n",
      "annaritz@vt.edu NetPath-RANKL-pathlinker-top200paths\n",
      "annaritz@vt.edu NetPath-Prolactin-pathlinker-top200paths\n",
      "annaritz@vt.edu NetPath-Leptin-pathlinker-top200paths\n",
      "annaritz@vt.edu NetPath-KitReceptor-pathlinker-top200paths\n",
      "annaritz@vt.edu NetPath-IL-7-pathlinker-top200paths\n",
      "annaritz@vt.edu NetPath-IL6-pathlinker-top200paths\n",
      "rishu.sethi2525@gmail.com NetPath-IL3-pathlinker-top200paths\n",
      "annaritz@vt.edu NetPath-IL3-pathlinker-top200paths\n",
      "annaritz@vt.edu NetPath-IL2-pathlinker-top200paths\n",
      "annaritz@vt.edu NetPath-IL1-pathlinker-top200paths\n",
      "annaritz@vt.edu NetPath-EGFR1-pathlinker-top200paths\n",
      "annaritz@vt.edu NetPath-BDNF-pathlinker-top200paths\n",
      "jeffl@vt.edu Lovastatin_20784_color\n"
     ]
    }
   ],
   "source": [
    "# Getting a list of public graphs with 'pathlinker' as a subtring in atleast one of their tags.\n",
    "\n",
    "for g in graphspace.get_public_graphs(tags=['%pathlinker%'],limit=100, offset=0):\n",
    "    print(g.owner_email, g.name)"
   ]
  },
  {
   "cell_type": "code",
   "execution_count": 205,
   "metadata": {
    "collapsed": false
   },
   "outputs": [
    {
     "name": "stdout",
     "output_type": "stream",
     "text": [
      "user6@example.com netpath-wnt-pathlinker-k100\n",
      "user6@example.com My First Graph\n",
      "user6@example.com Graph 03:39PM on August 05, 2017\n"
     ]
    }
   ],
   "source": [
    "# Getting a list of my graphs.\n",
    "\n",
    "for g in graphspace.get_my_graphs(limit=100, offset=0):\n",
    "    print(g.owner_email, g.name)"
   ]
  },
  {
   "cell_type": "markdown",
   "metadata": {},
   "source": [
    "# Part 8: RESTful APIs\n",
    "\n",
    "The GraphSpace REST API provides endpoints for entities such as graphs, layouts, and groups that allow developers to interact with the GraphSpace website remotely by sending and receiving JSON objects. This API enables developers to create, read, and update GraphSpace content from client-side JavaScript or from applications written in any language."
   ]
  },
  {
   "cell_type": "markdown",
   "metadata": {},
   "source": [
    "## Finding the right API for you\n",
    "\n",
    "[API Reference](http://manual.graphspace.org/en/latest/Programmers_Guide.html#api-reference)\n",
    "\n",
    "## Testing GraphSpace APIs\n",
    "\n",
    "**Postman** is a Google Chrome app for interacting with HTTP APIs. It provides a friendly GUI for constructing requests and reading responses. Postman makes it easy to test, develop and document APIs by allowing users to quickly put together both simple and complex HTTP requests.\n",
    "\n",
    "##### Postman Installation\n",
    "\n",
    "Postman is available as a native app (recommended) for Mac / Windows / Linux, and as a Chrome App. The Postman Chrome app can only run on the Chrome browser. To use the Postman Chrome app, you need to:\n",
    "\n",
    "1. Install Google Chrome: Install Chrome.\n",
    "2. If you already have Chrome installed, head over to Postman’s page on the Chrome Webstore – https://chrome.google.com/webstore/detail/postman-rest-client-packa/fhbjgbiflinjbdggehcddcbncdddomop?hl=en, and click ‘Add to Chrome’.\n",
    "3. After the download is complete, launch the app."
   ]
  },
  {
   "cell_type": "markdown",
   "metadata": {},
   "source": [
    "[Download Postman Collection](https://gist.github.com/sandeepm96/a824a6d0e643811389a6bf212e30a381)\n"
   ]
  },
  {
   "cell_type": "markdown",
   "metadata": {},
   "source": [
    "##### Importing the postman collection:\n",
    "\n",
    "- Click Import button in the top menu.\n",
    "\n",
    "![](images/postman-collection-import.jpg)\n",
    "\n",
    "- Choose the Import File in the pop up window.\n",
    "\n",
    "- Provide the Authorization details for the imported requests (as Authorization details have been removed for security concern)\n",
    "\n"
   ]
  },
  {
   "cell_type": "code",
   "execution_count": null,
   "metadata": {
    "collapsed": true
   },
   "outputs": [],
   "source": []
  },
  {
   "cell_type": "code",
   "execution_count": 83,
   "metadata": {
    "collapsed": false
   },
   "outputs": [
    {
     "data": {
      "text/plain": [
       "'Successfully deleted graph with id=21490'"
      ]
     },
     "execution_count": 83,
     "metadata": {},
     "output_type": "execute_result"
    }
   ],
   "source": [
    "# Deleting groups and graphs.\n",
    "graphspace.delete_group(group=group)\n",
    "graphspace.delete_graph(graph=graph)"
   ]
  },
  {
   "cell_type": "code",
   "execution_count": null,
   "metadata": {
    "collapsed": true
   },
   "outputs": [],
   "source": []
  },
  {
   "cell_type": "code",
   "execution_count": null,
   "metadata": {
    "collapsed": true
   },
   "outputs": [],
   "source": []
  },
  {
   "cell_type": "code",
   "execution_count": null,
   "metadata": {
    "collapsed": true
   },
   "outputs": [],
   "source": []
  }
 ],
 "metadata": {
  "anaconda-cloud": {},
  "kernelspec": {
   "display_name": "Python [default]",
   "language": "python",
   "name": "python3"
  },
  "language_info": {
   "codemirror_mode": {
    "name": "ipython",
    "version": 3
   },
   "file_extension": ".py",
   "mimetype": "text/x-python",
   "name": "python",
   "nbconvert_exporter": "python",
   "pygments_lexer": "ipython3",
   "version": "3.5.2"
  }
 },
 "nbformat": 4,
 "nbformat_minor": 1
}
