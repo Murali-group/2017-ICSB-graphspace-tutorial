{
 "cells": [
  {
   "cell_type": "markdown",
   "metadata": {},
   "source": [
    "# Session 2: Integrating GraphSpace into network analysis projects\n",
    "\n",
    "**Presenters**: Aditya Bharadwaj, Jeffrey N. Law and T. M. Murali\n",
    "\n",
    "## Introduction\n",
    "\n",
    "- Required files for today\n",
    "    - Clone or download this repository: [http://bit.ly/2017icsb](http://bit.ly/2017icsb)\n",
    "    - IPython/Jupyter notebooks \n",
    "    - Datasets in the data subdirectory\n",
    "- Required software for today\n",
    "    - Both Python 2 and 3 are welcome\n",
    "    - [Jupyter](http://jupyter.readthedocs.io/en/latest/install.html) or [IPython](https://ipython.org/install.html) (and their dependencies)\n",
    "    - [Anaconda distribution of Python](https://www.continuum.io/downloads) is an easy way to install these\n",
    "- About Me\n",
    "    - PhD Student, CS@VT\n",
    "    - Website: [adityabharadwaj.in](adityabharadwaj.in)\n",
    "    - Email: adb@vt.edu\n",
    "    - Twitter: @adbcoder\n",
    "\n",
    "    \n",
    "## Agenda\n",
    "\n",
    "1. Setup required softwares\n",
    "1. Introduction to python programming\n",
    "2. Creating and uploading graphs\n",
    "    - Basics of NetworkX API\n",
    "    - Visualizing networks on GraphSpace\n",
    "    - Adding style to the networks\n",
    "    - Specifying weights on edges\n",
    "    - Laying out nodes programmatically\n",
    "3. Managing groups and sharing graphs\n",
    "    - Create groups\n",
    "    - Add/Remove group members\n",
    "    - Share graphs with groups\n",
    "4. Managing layouts\n",
    "    - Sharing layouts\n",
    "    - Set default layout\n",
    "5. Publishing graphs\n",
    "6. Searching graphs on GraphSpace\n",
    "8. RESTful APIs\n",
    "    - Exploring and finding the right API\n",
    "    - Using RESTful APIs"
   ]
  },
  {
   "cell_type": "markdown",
   "metadata": {},
   "source": [
    "# Part 1. Setup required softwares\n",
    "\n",
    "\n",
    "## Install Jupyter/IPython notebook\n",
    "\n",
    "> The Jupyter Notebook is an interactive computing environment that enables users to author notebook documents that include: - Live code - Interactive widgets - Plots - Narrative text - Equations - Images - Video.\n",
    "\n",
    "### Install Jupyter \n",
    "\n",
    "Go to [Jupyter](http://jupyter.readthedocs.io/en/latest/install.html) and follow the instructions.\n",
    "\n",
    "You can also install Jupyter and Python using the following Anaconda distributions of Python (recommended):\n",
    "\n",
    "- [Windows](https://repo.continuum.io/archive/Anaconda3-4.4.0-Windows-x86_64.exe)\n",
    "- [MacOS](https://repo.continuum.io/archive/Anaconda3-4.4.0-MacOSX-x86_64.pkg)\n",
    "- [Linux](https://repo.continuum.io/archive/Anaconda3-4.4.0-Linux-x86_64.sh)\n",
    "\n",
    "### Start Jupyter\n",
    "\n",
    "1. Open command line and go the directory where you installed tutorial repository and start jupyter using the following command:\n",
    "```\n",
    "jupyter notebook\n",
    "```\n",
    "2. You should see the notebook open in your browser."
   ]
  },
  {
   "cell_type": "markdown",
   "metadata": {},
   "source": [
    "## Install `graphspace-python` package\n",
    "\n",
    "There are multiple ways to install `graphspace_python` package.\n",
    "\n",
    "    \n",
    "##### a. Use pip (recommended)\n",
    "```\n",
    "pip install graphspace_python\n",
    "```\n",
    "    \n",
    "##### b. Install manually from PyPi package\n",
    "```\n",
    "https://pypi.python.org/pypi/graphspace_python\n",
    "```\n",
    "\n",
    "##### c. Install the latest development version from GitHub\n",
    "```\n",
    "git clone https://github.com/adbharadwaj/graphspace-python.git\n",
    "```  "
   ]
  },
  {
   "cell_type": "code",
   "execution_count": null,
   "metadata": {
    "collapsed": false
   },
   "outputs": [],
   "source": [
    "!pip install graphspace_python==0.8.3"
   ]
  },
  {
   "cell_type": "markdown",
   "metadata": {},
   "source": [
    "# Part 2: Introduction to python programming"
   ]
  },
  {
   "cell_type": "markdown",
   "metadata": {
    "collapsed": true
   },
   "source": [
    ">  Python is an interpreted, general-purpose high-level programming language whose design philosophy emphasises code readability"
   ]
  },
  {
   "cell_type": "code",
   "execution_count": null,
   "metadata": {
    "collapsed": false
   },
   "outputs": [],
   "source": [
    "print(\"Hello World\")"
   ]
  },
  {
   "cell_type": "markdown",
   "metadata": {},
   "source": [
    "## Lists\n",
    "\n",
    "Lists are the most commonly used data structure. Think of it as a sequence of data that is enclosed in square brackets and data are separated by a comma. Each of these data can be accessed by calling it's index value."
   ]
  },
  {
   "cell_type": "code",
   "execution_count": null,
   "metadata": {
    "collapsed": true
   },
   "outputs": [],
   "source": [
    "l = []\n",
    "# l = list()"
   ]
  },
  {
   "cell_type": "code",
   "execution_count": null,
   "metadata": {
    "collapsed": true
   },
   "outputs": [],
   "source": [
    "l = ['apple', 'orange', 123] "
   ]
  },
  {
   "cell_type": "code",
   "execution_count": null,
   "metadata": {
    "collapsed": false
   },
   "outputs": [],
   "source": [
    "print(l)"
   ]
  },
  {
   "cell_type": "markdown",
   "metadata": {},
   "source": [
    "In python, Indexing starts from 0. Thus now the list `l`, which has three elements will have apple at 0 index, orange at 1 index and 123 at 2 index."
   ]
  },
  {
   "cell_type": "code",
   "execution_count": null,
   "metadata": {
    "collapsed": false
   },
   "outputs": [],
   "source": [
    "print(l[0], l[1])"
   ]
  },
  {
   "cell_type": "markdown",
   "metadata": {},
   "source": [
    "## Tuple\n",
    "\n",
    "Tuples are similar to lists but only big difference is the elements inside a list can be changed but in tuple it cannot be changed."
   ]
  },
  {
   "cell_type": "code",
   "execution_count": null,
   "metadata": {
    "collapsed": true
   },
   "outputs": [],
   "source": [
    "tup = ()\n",
    "#tup = tuple()"
   ]
  },
  {
   "cell_type": "markdown",
   "metadata": {},
   "source": [
    "Values can be assigned while declaring a tuple. It takes a list as input and converts it into a tuple or it takes a string and converts it into a tuple."
   ]
  },
  {
   "cell_type": "code",
   "execution_count": null,
   "metadata": {
    "collapsed": false
   },
   "outputs": [],
   "source": [
    "tup3 = tuple([1,2,3])\n",
    "print(tup3)\n",
    "tup4 = tuple('Hello')\n",
    "print(tup4)"
   ]
  },
  {
   "cell_type": "markdown",
   "metadata": {},
   "source": [
    "## Dictionaries\n",
    "\n",
    "\n",
    "Dictionaries are used like set of key-value pairs."
   ]
  },
  {
   "cell_type": "code",
   "execution_count": null,
   "metadata": {
    "collapsed": true
   },
   "outputs": [],
   "source": [
    "data = {}\n",
    "# data = dict()"
   ]
  },
  {
   "cell_type": "code",
   "execution_count": null,
   "metadata": {
    "collapsed": false
   },
   "outputs": [],
   "source": [
    "data['firstname'] = 'Aditya'\n",
    "data['lastname'] = 'Bharadwaj'\n",
    "data['age'] = 25\n",
    "\n",
    "print(data)"
   ]
  },
  {
   "cell_type": "markdown",
   "metadata": {},
   "source": [
    "## Loops\n",
    "\n",
    "```\n",
    "for variable in something:\n",
    "    algorithm\n",
    "```"
   ]
  },
  {
   "cell_type": "code",
   "execution_count": null,
   "metadata": {
    "collapsed": false
   },
   "outputs": [],
   "source": [
    "for i in [1,2,3,4,5]:\n",
    "    print(i)"
   ]
  },
  {
   "cell_type": "markdown",
   "metadata": {},
   "source": [
    "# Part 3: Creating and uploading graphs"
   ]
  },
  {
   "cell_type": "markdown",
   "metadata": {},
   "source": [
    "## Basic concepts in NetworkX\n",
    "\n",
    "\n",
    "\n",
    "> **NetworkX** is a Python package for the creation, manipulation, and study of the structure, dynamics, and functions of complex networks.\n",
    "\n",
    "Documentation is available at [https://networkx.readthedocs.io/en/stable/](https://networkx.readthedocs.io/en/stable/)\n"
   ]
  },
  {
   "cell_type": "markdown",
   "metadata": {},
   "source": [
    "###### Create an empty graph"
   ]
  },
  {
   "cell_type": "code",
   "execution_count": null,
   "metadata": {
    "collapsed": false
   },
   "outputs": [],
   "source": [
    "import networkx as nx\n",
    "G = nx.DiGraph()"
   ]
  },
  {
   "cell_type": "code",
   "execution_count": null,
   "metadata": {
    "collapsed": false
   },
   "outputs": [],
   "source": [
    "# Add a node\n",
    "\n",
    "G.add_node('a')"
   ]
  },
  {
   "cell_type": "code",
   "execution_count": null,
   "metadata": {
    "collapsed": true
   },
   "outputs": [],
   "source": [
    "# Add multiple nodes\n",
    "\n",
    "G.add_nodes_from(['b', 'c', 'd'])"
   ]
  },
  {
   "cell_type": "code",
   "execution_count": null,
   "metadata": {
    "collapsed": false
   },
   "outputs": [],
   "source": [
    "G.nodes()"
   ]
  },
  {
   "cell_type": "code",
   "execution_count": null,
   "metadata": {
    "collapsed": false
   },
   "outputs": [],
   "source": [
    "# Remove node from the graph\n",
    "\n",
    "G.remove_node('d')"
   ]
  },
  {
   "cell_type": "code",
   "execution_count": null,
   "metadata": {
    "collapsed": false
   },
   "outputs": [],
   "source": [
    "G.nodes()"
   ]
  },
  {
   "cell_type": "code",
   "execution_count": null,
   "metadata": {
    "collapsed": true
   },
   "outputs": [],
   "source": [
    "# Add edges to the graph\n",
    "\n",
    "G.add_edge('a', 'b')\n",
    "G.add_edges_from([('b','c'), ('c', 'a')])"
   ]
  },
  {
   "cell_type": "code",
   "execution_count": null,
   "metadata": {
    "collapsed": false
   },
   "outputs": [],
   "source": [
    "G.edges()"
   ]
  },
  {
   "cell_type": "code",
   "execution_count": null,
   "metadata": {
    "collapsed": false
   },
   "outputs": [],
   "source": [
    "# Remove edge from the graph\n",
    "\n",
    "G.remove_edge('c', 'a')"
   ]
  },
  {
   "cell_type": "code",
   "execution_count": null,
   "metadata": {
    "collapsed": false
   },
   "outputs": [],
   "source": [
    "G.edges()"
   ]
  },
  {
   "cell_type": "code",
   "execution_count": null,
   "metadata": {
    "collapsed": false
   },
   "outputs": [],
   "source": [
    "# Get Graph Info\n",
    "\n",
    "print(nx.info(G))"
   ]
  },
  {
   "cell_type": "markdown",
   "metadata": {},
   "source": [
    "## NetworkX with Matplotlib¶\n",
    "\n",
    "Pros:\n",
    "- Easy\n",
    "- Some customization\n",
    "\n",
    "\n",
    "Cons:\n",
    "- Looks \"outdated\" (not great for publication / productizing)\n",
    "- Not interactive\n",
    "- Few Layout Options\n",
    "- Offline"
   ]
  },
  {
   "cell_type": "code",
   "execution_count": null,
   "metadata": {
    "collapsed": false
   },
   "outputs": [],
   "source": [
    "%matplotlib inline\n",
    "\n",
    "nx.draw(G, with_labels=True)"
   ]
  },
  {
   "cell_type": "markdown",
   "metadata": {},
   "source": [
    "## Uploading your network to GraphSpace"
   ]
  },
  {
   "cell_type": "markdown",
   "metadata": {},
   "source": [
    "First you need to connect to GraphSpace using your username and password. "
   ]
  },
  {
   "cell_type": "code",
   "execution_count": null,
   "metadata": {
    "collapsed": true
   },
   "outputs": [],
   "source": [
    "from graphspace_python.api.client import GraphSpace\n",
    "\n",
    "graphspace = GraphSpace('user6@example.com', 'user6')"
   ]
  },
  {
   "cell_type": "markdown",
   "metadata": {},
   "source": [
    "Once you are connected, you can use this connection to post/upload your graphs to GraphSpace."
   ]
  },
  {
   "cell_type": "code",
   "execution_count": null,
   "metadata": {
    "collapsed": false
   },
   "outputs": [],
   "source": [
    "from graphspace_python.graphs.classes.gsgraph import GSGraph\n",
    "\n",
    "graph = graphspace.post_graph(GSGraph(G))"
   ]
  },
  {
   "cell_type": "code",
   "execution_count": null,
   "metadata": {
    "collapsed": false
   },
   "outputs": [],
   "source": [
    "print(graph.url)"
   ]
  },
  {
   "cell_type": "markdown",
   "metadata": {},
   "source": [
    "![network-without-label](images/network-without-label.png)"
   ]
  },
  {
   "cell_type": "markdown",
   "metadata": {},
   "source": [
    "## Updating your network on GraphSpace"
   ]
  },
  {
   "cell_type": "code",
   "execution_count": null,
   "metadata": {
    "collapsed": false
   },
   "outputs": [],
   "source": [
    "# Update the name of the graph\n",
    "\n",
    "graph.set_name('My First Graph')\n",
    "graph = graphspace.update_graph(graph)\n",
    "print(graph.url)"
   ]
  },
  {
   "cell_type": "markdown",
   "metadata": {},
   "source": [
    "## Adding and Inspecting Attributes"
   ]
  },
  {
   "cell_type": "code",
   "execution_count": null,
   "metadata": {
    "collapsed": false
   },
   "outputs": [],
   "source": [
    "G = nx.DiGraph()\n",
    "\n",
    "# add at creation\n",
    "# nodes\n",
    "G.add_node('a', favorite_color='yellow')\n",
    "\n",
    "G.add_nodes_from([('b', {'favorite_color' : 'green'}),\n",
    "                  ('c', {'favorite_color' :'red'})])\n",
    "\n",
    "# edges\n",
    "G.add_edge('a', 'b', {'relationship' : 'friends'})\n",
    "G.add_edge('b', 'c', {'relationship' : 'enemy'})"
   ]
  },
  {
   "cell_type": "code",
   "execution_count": null,
   "metadata": {
    "collapsed": false
   },
   "outputs": [],
   "source": [
    "# accessing node attributes\n",
    "print(\"Node 'a' attributes:\", G.node['a'])\n",
    "\n",
    "# accessing edge attributes\n",
    "print(\"Edge a-b attributes:\", G.edge['a']['b'])"
   ]
  },
  {
   "cell_type": "markdown",
   "metadata": {},
   "source": [
    "## Adding node labels\n",
    "\n",
    "**label** is a text attribute that is displayed inside of the node. GraphSpace uses it to search for nodes with a matching name.\n",
    "\n",
    "Refer to [Node Data Attributes Attributes Treated Specially by GraphSpace](http://manual.graphspace.org/en/latest/GraphSpace_Network_Model.html#node-data-attributes-attributes-treated-specially-by-graphspace) for more details."
   ]
  },
  {
   "cell_type": "code",
   "execution_count": null,
   "metadata": {
    "collapsed": true
   },
   "outputs": [],
   "source": [
    "label = {\n",
    "    'a' : 'A',\n",
    "    'b' : 'B',\n",
    "    'c' : 'C'\n",
    "}"
   ]
  },
  {
   "cell_type": "code",
   "execution_count": null,
   "metadata": {
    "collapsed": false
   },
   "outputs": [],
   "source": [
    "nx.set_node_attributes(G, 'label', label)\n",
    "print(\"Node a's label is %s\" % G.node['a']['label'])"
   ]
  },
  {
   "cell_type": "code",
   "execution_count": null,
   "metadata": {
    "collapsed": false
   },
   "outputs": [],
   "source": [
    "graph = graphspace.update_graph(GSGraph(G), graph_id=graph.id)\n",
    "print(graph.url)"
   ]
  },
  {
   "cell_type": "markdown",
   "metadata": {},
   "source": [
    "![network-with-labels](images/network-with-labels.png)"
   ]
  },
  {
   "cell_type": "markdown",
   "metadata": {},
   "source": [
    "## Adding graph information\n",
    "\n",
    "GraphSpace gives users the freedom to include any attributes such as `name`, `title`, `description`, and `tags` that best characterize the network.\n",
    "\n",
    "Refer to [Graph Data Attributes](http://manual.graphspace.org/en/latest/GraphSpace_Network_Model.html#graph-data-attributes) to learn more about adding information about the graph."
   ]
  },
  {
   "cell_type": "code",
   "execution_count": null,
   "metadata": {
    "collapsed": false
   },
   "outputs": [],
   "source": [
    "graph.set_name('My First Graph')\n",
    "# Add tags\n",
    "graph.set_tags(['icsb2017', 'tutorial'])\n",
    "# Add any number of attributes that best characterize the network\n",
    "graph.set_data({\n",
    "        'author': 'Aditya Bharadwaj',\n",
    "        'contact_email': 'adb@vt.edu',\n",
    "        'description': \"This graph was posted during ICSB 2017 workshop on GraphSpace\"\n",
    "    })\n",
    "\n",
    "graph = graphspace.update_graph(graph, graph_id=graph.id)\n",
    "print(graph.url)"
   ]
  },
  {
   "cell_type": "markdown",
   "metadata": {},
   "source": [
    "## Adding visual styles to nodes\n",
    "\n",
    "\n",
    "**color** (str, optional): Hexadecimal representation of the color (e.g., #FFFFFF) or color name. Defaults to white.\n",
    "\n",
    "**shape** (str, optional): Shape of node. Defaults to 'ellipse'\n",
    "\n",
    "##### List of allowed node shapes\n",
    "\n",
    "- ellipse (default)\n",
    "- rectangle\n",
    "- roundrectangle \n",
    "- triangle\n",
    "- pentagon\n",
    "- hexagon\n",
    "- heptagon\n",
    "- octagon\n",
    "- star\n",
    "- diamond\n",
    "- vee\n",
    "- rhomboid"
   ]
  },
  {
   "cell_type": "code",
   "execution_count": null,
   "metadata": {
    "collapsed": false
   },
   "outputs": [],
   "source": [
    "for n in graph.nodes():\n",
    "    graph.add_node_style(n, shape='rectangle', color=G.node[n]['favorite_color'], width=100, height=100)\n",
    "\n",
    "graph = graphspace.update_graph(graph)\n",
    "print(graph.url)"
   ]
  },
  {
   "cell_type": "markdown",
   "metadata": {},
   "source": [
    "![](images/network-with-node-style.png)"
   ]
  },
  {
   "cell_type": "markdown",
   "metadata": {},
   "source": [
    "## Adding visual style to edges\n",
    "\n",
    "**edge_style** (str, optional): Style of edge. Defaults to 'solid'.\n",
    "\n",
    "##### List of allowed edge styles\n",
    "- solid (default)\n",
    "- dotted\n",
    "- dashed"
   ]
  },
  {
   "cell_type": "code",
   "execution_count": null,
   "metadata": {
    "collapsed": false
   },
   "outputs": [],
   "source": [
    "graph.add_edge_style('a', 'b', directed=False, edge_style='solid', width=10.0, color='blue')\n",
    "graph.add_edge_style('b', 'c', directed=False, edge_style='dashed', width=10.0, color='red')\n",
    "    \n",
    "graph = graphspace.update_graph(graph)\n",
    "print(graph.url)"
   ]
  },
  {
   "cell_type": "markdown",
   "metadata": {},
   "source": [
    "![](images/network-with-edge-style.png)"
   ]
  },
  {
   "cell_type": "markdown",
   "metadata": {},
   "source": [
    "## Adding annotations to nodes and edges\n",
    "\n",
    "##### 'popup' attribute\n",
    "\n",
    "A string that will be displayed in a popup window when the user clicks the node/edge. This string can be HTML-formatted information, e.g., Gene Ontology annotations and database links for a protein; or types, mechanism, and database sources for an interaction."
   ]
  },
  {
   "cell_type": "code",
   "execution_count": null,
   "metadata": {
    "collapsed": false
   },
   "outputs": [],
   "source": [
    "graph.node['a']['popup'] = 'Node A'\n",
    "graph.node['b']['popup'] = 'Node B'\n",
    "graph.node['c']['popup'] = 'Node C'\n",
    "\n",
    "graph['a']['b']['popup'] = 'Friends'\n",
    "graph['b']['c']['popup'] = 'Enemy'\n",
    "\n",
    "graph = graphspace.update_graph(graph)\n",
    "print(graph.url)"
   ]
  },
  {
   "cell_type": "markdown",
   "metadata": {},
   "source": [
    "![](images/network-with-popups.png)"
   ]
  },
  {
   "cell_type": "code",
   "execution_count": null,
   "metadata": {
    "collapsed": false
   },
   "outputs": [],
   "source": [
    "# HTML formated popups\n",
    "\n",
    "graph['a']['b']['popup'] = '<h3>Edge between A and B</h3> <br/> Relationship: Friends'\n",
    "graph['b']['c']['popup'] = '<h3>Edge between B and C</h3> <br/> Relationship: Enemy'\n",
    "\n",
    "\n",
    "graph.node['a']['popup'] = '<h3>Node A</h3> <br/> <img height=\"250\" src=\"http://images.clipartpanda.com/boy-20clip-20art-blond-boy.png\" alt=\"Image A\" />'\n",
    "graph.node['b']['popup'] = '<h3>Node B</h3> <br/> <img height=\"250\" src=\"http://images.clipartpanda.com/boy-clipart-birthday-boy.png\" alt=\"Image B\" />'\n",
    "graph.node['c']['popup'] = '<h3>Node C</h3> <br/> <img height=\"250\" src=\"http://images.clipartpanda.com/boy-clipart-9a67af7554253b6a9b7014c36c348f09.jpg\" alt=\"Image C\" />'\n",
    "\n",
    "graph = graphspace.update_graph(graph)\n",
    "print(graph.url)"
   ]
  },
  {
   "cell_type": "code",
   "execution_count": null,
   "metadata": {
    "collapsed": false
   },
   "outputs": [],
   "source": [
    "# You can also embed websites in popups as well. This could be useful for embedding sites like genecards.\n",
    "\n",
    "graph['a']['b']['popup'] = '<h3>Edge between A and B</h3> <br/> Relationship: <a href=\"https://en.m.wikipedia.org/wiki/Friendship\">Friends</a>  <iframe src=\"https://en.m.wikipedia.org/wiki/Friendship\" scrolling=\"auto\" width=\"100%\" height=\"500\"></iframe>'\n",
    "graph['b']['c']['popup'] = '<h3>Edge between B and C</h3> <br/> Relationship: <a href=\"https://en.m.wikipedia.org/wiki/Enemy\">Enemy</a>  <iframe src=\"https://en.m.wikipedia.org/wiki/Enemy\" scrolling=\"auto\" width=\"100%\" height=\"500\"></iframe>'\n",
    "\n",
    "graph = graphspace.update_graph(graph)\n",
    "print(graph.url)"
   ]
  },
  {
   "cell_type": "markdown",
   "metadata": {},
   "source": [
    "## Laying out nodes\n"
   ]
  },
  {
   "cell_type": "code",
   "execution_count": null,
   "metadata": {
    "collapsed": false
   },
   "outputs": [],
   "source": [
    "# Position nodes in a vertical alignment.\n",
    "graph.set_node_position('a', y=0, x=0)\n",
    "graph.set_node_position('b', y=250, x=0)\n",
    "graph.set_node_position('c', y=500, x=0)\n",
    "\n",
    "graph = graphspace.update_graph(graph)\n",
    "print(graph.url)"
   ]
  },
  {
   "cell_type": "markdown",
   "metadata": {},
   "source": [
    "![](images/network-with-vertical-layout.png)"
   ]
  },
  {
   "cell_type": "markdown",
   "metadata": {},
   "source": [
    "## Specifying weights on edges"
   ]
  },
  {
   "cell_type": "code",
   "execution_count": null,
   "metadata": {
    "collapsed": false
   },
   "outputs": [],
   "source": [
    "# G.add_edge('a', 'b', weight=5)\n",
    "# G.add_edge('b', 'c', weight=10)\n",
    "graph['a']['b']['weight']  = 5\n",
    "graph['b']['c']['weight']  = 10\n",
    "graph.edges(data=True)"
   ]
  },
  {
   "cell_type": "code",
   "execution_count": null,
   "metadata": {
    "collapsed": false
   },
   "outputs": [],
   "source": [
    "graph = graphspace.update_graph(graph, graph_id=graph.id)\n",
    "print(graph.url)"
   ]
  },
  {
   "cell_type": "markdown",
   "metadata": {},
   "source": [
    "#####  Note: If you add weights as a edge property, it will not reflect on graph visualization automatically.\n",
    "\n",
    "![](images/network-with-vertical-layout.png)"
   ]
  },
  {
   "cell_type": "code",
   "execution_count": null,
   "metadata": {
    "collapsed": false
   },
   "outputs": [],
   "source": [
    "# Laying out edges with width propotional to edge weight.\n",
    "\n",
    "graph.add_edge_style('a', 'b', directed=False, edge_style='solid', width=graph['a']['b']['weight'], color='blue')\n",
    "graph.add_edge_style('b', 'c', directed=False, edge_style='dashed', width=graph['b']['c']['weight'], color='red')"
   ]
  },
  {
   "cell_type": "code",
   "execution_count": null,
   "metadata": {
    "collapsed": false
   },
   "outputs": [],
   "source": [
    "graph = graphspace.update_graph(graph)\n",
    "print(graph.url)"
   ]
  },
  {
   "cell_type": "markdown",
   "metadata": {},
   "source": [
    "![](images/network-with-varying-edge-width.png)"
   ]
  },
  {
   "cell_type": "markdown",
   "metadata": {},
   "source": [
    "# Part 4: Managing collaborative groups and sharing graphs\n",
    "\n",
    "A **group** is a collection of GraphSpace users. For example, if there are multiple researchers who are collaborating a project, a group may be created containing all of them. \n",
    "\n",
    "A **group owner** is the creator of the group. Any GraphSpace user can create a group by visiting the Groups page and clicking the “Create group” button. The group owner may\n",
    "\n",
    "- Invite any GraphSpace user that has an account to be a member of their group.\n",
    "- Remove any member from the group.\n",
    "- Unshare any graph that has already been shared by the members of the group\n",
    "\n",
    "A **group member** is a user who is a part of a group. (A group owner is trivially a member of the group.) A group member may\n",
    "\n",
    "- Share a graph owned by him or her with a group.\n",
    "- Unshare a previously shared graph.\n",
    "- Share a layout for a previously shared graph.\n",
    "- Unshare a previously shared layout."
   ]
  },
  {
   "cell_type": "markdown",
   "metadata": {},
   "source": [
    "## Creating groups"
   ]
  },
  {
   "cell_type": "code",
   "execution_count": null,
   "metadata": {
    "collapsed": false
   },
   "outputs": [],
   "source": [
    "from graphspace_python.graphs.classes.gsgroup import GSGroup\n",
    "\n",
    "group = graphspace.post_group(GSGroup(name='My first group', description='sample group'))"
   ]
  },
  {
   "cell_type": "code",
   "execution_count": null,
   "metadata": {
    "collapsed": false
   },
   "outputs": [],
   "source": [
    "print(group.url)"
   ]
  },
  {
   "cell_type": "markdown",
   "metadata": {},
   "source": [
    "## Adding and removing group members"
   ]
  },
  {
   "cell_type": "code",
   "execution_count": null,
   "metadata": {
    "collapsed": false
   },
   "outputs": [],
   "source": [
    "# Initially a group is created with the group owner as a member.\n",
    "\n",
    "for member in graphspace.get_group_members(group=group):\n",
    "    print(member.email)"
   ]
  },
  {
   "cell_type": "code",
   "execution_count": null,
   "metadata": {
    "collapsed": false
   },
   "outputs": [],
   "source": [
    "# Group owner can add existing users by their GraphSpace usernames\n",
    "\n",
    "for email in ['adb@vt.edu', 'adb@cs.vt.edu']:\n",
    "    graphspace.add_group_member(group=group, member_email=email)"
   ]
  },
  {
   "cell_type": "code",
   "execution_count": null,
   "metadata": {
    "collapsed": false
   },
   "outputs": [],
   "source": [
    "# Getting the list of all group members\n",
    "\n",
    "for member in graphspace.get_group_members(group=group):\n",
    "    print(member.email, member.id)"
   ]
  },
  {
   "cell_type": "code",
   "execution_count": null,
   "metadata": {
    "collapsed": false
   },
   "outputs": [],
   "source": [
    "# Send the following invitation link to your collaborators (with/without GraphSpace accounts)\n",
    "\n",
    "print(group.invite_link)"
   ]
  },
  {
   "cell_type": "code",
   "execution_count": null,
   "metadata": {
    "collapsed": false
   },
   "outputs": [],
   "source": [
    "graphspace.delete_group_member(group=group, member_id=70)"
   ]
  },
  {
   "cell_type": "code",
   "execution_count": null,
   "metadata": {
    "collapsed": false
   },
   "outputs": [],
   "source": [
    "for member in graphspace.get_group_members(group=group):\n",
    "    print(member.email)"
   ]
  },
  {
   "cell_type": "markdown",
   "metadata": {},
   "source": [
    "## Sharing graphs with the groups\n",
    "\n",
    "A user can share one or more graphs with groups to which the user belongs."
   ]
  },
  {
   "cell_type": "code",
   "execution_count": null,
   "metadata": {
    "collapsed": false
   },
   "outputs": [],
   "source": [
    "graphspace.share_graph(graph=graph, group=group)"
   ]
  },
  {
   "cell_type": "code",
   "execution_count": null,
   "metadata": {
    "collapsed": false
   },
   "outputs": [],
   "source": [
    "for shared_graph in graphspace.get_group_graphs(group=group):\n",
    "    print(shared_graph.owner_email, shared_graph.name)"
   ]
  },
  {
   "cell_type": "markdown",
   "metadata": {},
   "source": [
    "## Unsharing graphs "
   ]
  },
  {
   "cell_type": "code",
   "execution_count": null,
   "metadata": {
    "collapsed": false
   },
   "outputs": [],
   "source": [
    "graphspace.unshare_graph(graph=graph, group=group)"
   ]
  },
  {
   "cell_type": "code",
   "execution_count": null,
   "metadata": {
    "collapsed": true
   },
   "outputs": [],
   "source": [
    "# No graph is shared with the group at this point.\n",
    "\n",
    "for shared_graph in graphspace.get_group_graphs(group=group):\n",
    "    print(shared_graph.owner_email, shared_graph.name)"
   ]
  },
  {
   "cell_type": "markdown",
   "metadata": {},
   "source": [
    "# Part 5: Managing layouts"
   ]
  },
  {
   "cell_type": "markdown",
   "metadata": {},
   "source": [
    "## Creating and uploading layouts"
   ]
  },
  {
   "cell_type": "code",
   "execution_count": null,
   "metadata": {
    "collapsed": true
   },
   "outputs": [],
   "source": [
    "from graphspace_python.graphs.classes.gslayout import GSLayout\n",
    "\n",
    "L = GSLayout()\n",
    "# Assign different colors to nodes\n",
    "L.add_node_style('a', shape='ellipse', color='yellow', width=100, height=100)\n",
    "L.add_node_style('b', shape='triangle', color='green', width=100, height=100)\n",
    "L.add_node_style('c', shape='rectangle', color='red', width=100, height=100)\n",
    "L.add_edge_style('a', 'b', directed=False, edge_style='solid', width=5.0, color='blue')\n",
    "L.add_edge_style('b', 'c', directed=False, edge_style='dashed', width=5.0, color='red')\n",
    "\n",
    "L.set_name('My First Layout')"
   ]
  },
  {
   "cell_type": "code",
   "execution_count": null,
   "metadata": {
    "collapsed": false
   },
   "outputs": [],
   "source": [
    "layout = graphspace.post_graph_layout(graph_id=graph.id, layout=L)"
   ]
  },
  {
   "cell_type": "code",
   "execution_count": null,
   "metadata": {
    "collapsed": false
   },
   "outputs": [],
   "source": [
    "# Go to the following url o visualize the layout.\n",
    "print(layout.url)"
   ]
  },
  {
   "cell_type": "markdown",
   "metadata": {},
   "source": [
    "![](images/network-with-new-layout.png)"
   ]
  },
  {
   "cell_type": "code",
   "execution_count": null,
   "metadata": {
    "collapsed": false
   },
   "outputs": [],
   "source": [
    "layout.set_node_position('a', y=0, x=0)\n",
    "layout.set_node_position('b', y=0, x=250)\n",
    "layout.set_node_position('c', y=0, x=500)\n",
    "layout = graphspace.update_graph_layout(graph_id=graph.id, layout=layout)"
   ]
  },
  {
   "cell_type": "code",
   "execution_count": null,
   "metadata": {
    "collapsed": false
   },
   "outputs": [],
   "source": [
    "# Go to the following url to visualize the layout.\n",
    "print(layout.url)"
   ]
  },
  {
   "cell_type": "markdown",
   "metadata": {},
   "source": [
    "![](images/network-with-horizontal-layout.png)"
   ]
  },
  {
   "cell_type": "markdown",
   "metadata": {},
   "source": [
    "## More examples\n",
    "\n",
    "Users can also define more advanced style for the graph using **attr_dict** parameter in `add_node_style` and `add_edge_style` methods. The **attr_dict** is dictionary of [style properties supported by Cytoscape.js](http://js.cytoscape.org/#style/node-body). "
   ]
  },
  {
   "cell_type": "code",
   "execution_count": null,
   "metadata": {
    "collapsed": false
   },
   "outputs": [],
   "source": [
    "# Setting font style\n",
    "\n",
    "layout.add_node_style('a', attr_dict={'font-size':24, 'font-family': 'Lucida Console, Courier, monospace'}, shape='ellipse', color=graph.node['a']['favorite_color'], width=100, height=100)\n",
    "layout.add_node_style('b', attr_dict={'font-size':24, 'font-family': 'Lucida Console, Courier, monospace'}, shape='triangle', color=graph.node['b']['favorite_color'], width=100, height=100)\n",
    "layout.add_node_style('c', attr_dict={'font-size':24, 'font-family': 'Lucida Console, Courier, monospace'}, shape='rectangle', color=graph.node['c']['favorite_color'], width=100, height=100)\n",
    "\n",
    "layout = graphspace.update_graph_layout(graph_id=graph.id, layout=layout)\n",
    "print(layout.url)"
   ]
  },
  {
   "cell_type": "code",
   "execution_count": null,
   "metadata": {
    "collapsed": false
   },
   "outputs": [],
   "source": [
    "# Setting image backgrounds\n",
    "import pickle\n",
    "tutorial_node_images = pickle.load( open( \"data/tutorial_node_images.p\", \"rb\" ) )\n",
    "\n",
    "layout.add_node_style('a', attr_dict={\n",
    "    'background-image': tutorial_node_images['a'],\n",
    "    'background-clip': 'none',\n",
    "    'background-fit': 'contain',\n",
    "    'background-opacity': 0,\n",
    "    'border-opacity': 0,\n",
    "    'text-margin-y': 5\n",
    "}, width=100, height=100)\n",
    "\n",
    "layout.add_node_style('b', attr_dict={\n",
    "    'background-image': tutorial_node_images['b'],\n",
    "    'background-clip': 'none',\n",
    "    'background-fit': 'contain',\n",
    "    'background-opacity': 0,\n",
    "    'border-opacity': 0,\n",
    "    'text-margin-y': 5\n",
    "}, width=100, height=100)\n",
    "\n",
    "layout.add_node_style('c', attr_dict={\n",
    "    'background-image': tutorial_node_images['c'],\n",
    "    'background-clip': 'none',\n",
    "    'background-fit': 'contain',\n",
    "    'background-opacity': 0,\n",
    "    'border-opacity': 0,\n",
    "    'text-margin-y': 5\n",
    "}, width=100, height=100)\n",
    "\n",
    "layout = graphspace.update_graph_layout(graph_id=graph.id, layout=layout)\n",
    "print(layout.url)"
   ]
  },
  {
   "cell_type": "markdown",
   "metadata": {},
   "source": [
    "## Set the layout as default"
   ]
  },
  {
   "cell_type": "code",
   "execution_count": null,
   "metadata": {
    "collapsed": false
   },
   "outputs": [],
   "source": [
    "graph = graphspace.set_default_graph_layout(graph=graph, layout=layout)"
   ]
  },
  {
   "cell_type": "code",
   "execution_count": null,
   "metadata": {
    "collapsed": false
   },
   "outputs": [],
   "source": [
    "# You should see the above layout by default for the given graph.\n",
    "\n",
    "print(graph.url)"
   ]
  },
  {
   "cell_type": "markdown",
   "metadata": {},
   "source": [
    "## Sharing layouts"
   ]
  },
  {
   "cell_type": "code",
   "execution_count": null,
   "metadata": {
    "collapsed": false
   },
   "outputs": [],
   "source": [
    "for mylayout in graphspace.get_my_graph_layouts(graph_id=graph.id):\n",
    "    print(mylayout.name, mylayout.id)"
   ]
  },
  {
   "cell_type": "markdown",
   "metadata": {},
   "source": [
    "Similarily you can also get the list of shared layouts using `get_shared_graph_layouts` method."
   ]
  },
  {
   "cell_type": "code",
   "execution_count": null,
   "metadata": {
    "collapsed": false
   },
   "outputs": [],
   "source": [
    "layouts = graphspace.get_shared_graph_layouts(graph=graph)\n",
    "print(layouts)"
   ]
  },
  {
   "cell_type": "code",
   "execution_count": null,
   "metadata": {
    "collapsed": false
   },
   "outputs": [],
   "source": [
    "layout.set_is_shared(1)\n",
    "layout = graphspace.update_graph_layout(graph=graph, layout=layout)"
   ]
  },
  {
   "cell_type": "code",
   "execution_count": null,
   "metadata": {
    "collapsed": false
   },
   "outputs": [],
   "source": [
    "print([l.name for l in graphspace.get_shared_graph_layouts(graph=graph)])"
   ]
  },
  {
   "cell_type": "markdown",
   "metadata": {},
   "source": [
    "# Part 6: Publishing graphs"
   ]
  },
  {
   "cell_type": "code",
   "execution_count": null,
   "metadata": {
    "collapsed": false
   },
   "outputs": [],
   "source": [
    "# Sharing the graph with everyone. This graph will show up in Public Graphs list.\n",
    "\n",
    "graph = graphspace.publish_graph(graph=graph)\n",
    "print(graph.url)"
   ]
  },
  {
   "cell_type": "code",
   "execution_count": null,
   "metadata": {
    "collapsed": false
   },
   "outputs": [],
   "source": [
    "# Unpublishing graphs\n",
    "\n",
    "graph = graphspace.unpublish_graph(graph_id=graph.id)\n",
    "print(graph.url)"
   ]
  },
  {
   "cell_type": "markdown",
   "metadata": {},
   "source": [
    "# Part 7: Searching graphs on GraphSpace\n",
    "\n",
    "You can search for graphs based on their visibility.\n",
    "- Graphs posted by you\n",
    "- Graphs shared with one of your groups\n",
    "- Graphs shared with everyone"
   ]
  },
  {
   "cell_type": "code",
   "execution_count": null,
   "metadata": {
    "collapsed": false,
    "scrolled": true
   },
   "outputs": [],
   "source": [
    "# Getting a list of public graphs with 'pathlinker' as a subtring in atleast one of their tags.\n",
    "\n",
    "for g in graphspace.get_public_graphs(tags=['%pathlinker%'],limit=100, offset=0):\n",
    "    print(g.owner_email, g.name)"
   ]
  },
  {
   "cell_type": "code",
   "execution_count": null,
   "metadata": {
    "collapsed": false
   },
   "outputs": [],
   "source": [
    "# Getting a list of my graphs.\n",
    "\n",
    "for g in graphspace.get_my_graphs(limit=100, offset=0):\n",
    "    print(g.owner_email, g.name)"
   ]
  },
  {
   "cell_type": "markdown",
   "metadata": {},
   "source": [
    "# Part 8: RESTful APIs\n",
    "\n",
    "The GraphSpace REST API provides endpoints for entities such as graphs, layouts, and groups that allow developers to interact with the GraphSpace website remotely by sending and receiving JSON objects. This API enables developers to create, read, and update GraphSpace content from client-side JavaScript or from applications written in any language."
   ]
  },
  {
   "cell_type": "markdown",
   "metadata": {},
   "source": [
    "## Finding the right API for you\n",
    "\n",
    "[API Reference](http://manual.graphspace.org/en/latest/Programmers_Guide.html#api-reference)\n",
    "\n",
    "## Testing GraphSpace APIs\n",
    "\n",
    "**Postman** is a Google Chrome app for interacting with HTTP APIs. It provides a friendly GUI for constructing requests and reading responses. Postman makes it easy to test, develop and document APIs by allowing users to quickly put together both simple and complex HTTP requests.\n",
    "\n",
    "##### Postman Installation\n",
    "\n",
    "Postman is available as a native app (recommended) for Mac / Windows / Linux, and as a Chrome App. The Postman Chrome app can only run on the Chrome browser. To use the Postman Chrome app, you need to:\n",
    "\n",
    "1. Install Google Chrome: Install Chrome.\n",
    "2. If you already have Chrome installed, head over to Postman’s page on the Chrome Webstore – https://chrome.google.com/webstore/detail/postman-rest-client-packa/fhbjgbiflinjbdggehcddcbncdddomop?hl=en, and click ‘Add to Chrome’.\n",
    "3. After the download is complete, launch the app."
   ]
  },
  {
   "cell_type": "markdown",
   "metadata": {},
   "source": [
    "[Download Postman Collection](https://gist.github.com/sandeepm96/a824a6d0e643811389a6bf212e30a381)\n"
   ]
  },
  {
   "cell_type": "markdown",
   "metadata": {},
   "source": [
    "##### Importing the postman collection:\n",
    "\n",
    "- Click Import button in the top menu.\n",
    "\n",
    "![](images/postman-collection-import.jpg)\n",
    "\n",
    "- Choose the Import File in the pop up window.\n",
    "\n",
    "- Provide the Authorization details for the imported requests (as Authorization details have been removed for security concern)\n",
    "\n"
   ]
  },
  {
   "cell_type": "markdown",
   "metadata": {
    "collapsed": true
   },
   "source": [
    "\n",
    "## Deleting groups,graphs and layouts posted during this tutorial"
   ]
  },
  {
   "cell_type": "code",
   "execution_count": 109,
   "metadata": {
    "collapsed": false
   },
   "outputs": [
    {
     "data": {
      "text/plain": [
       "'Successfully deleted graph with id=22665'"
      ]
     },
     "execution_count": 109,
     "metadata": {},
     "output_type": "execute_result"
    }
   ],
   "source": [
    "graphspace.delete_group(group=group)\n",
    "graphspace.delete_graph(graph=graph)"
   ]
  },
  {
   "cell_type": "markdown",
   "metadata": {},
   "source": [
    "## More examples"
   ]
  },
  {
   "cell_type": "code",
   "execution_count": null,
   "metadata": {
    "collapsed": false
   },
   "outputs": [],
   "source": [
    "## Map values to node color\n",
    "\n",
    "g = nx.erdos_renyi_graph(10, 0.1, seed=10, directed=True)\n",
    "g = GSGraph(nx.relabel_nodes(g, {n: str(n) for n in g.nodes()}))\n",
    "nx.set_node_attributes(g, 'degree_centrality', nx.degree_centrality(g))\n",
    "for n in g.nodes():\n",
    "    g.add_node_style(n, attr_dict={'background-opacity': g.node[n]['degree_centrality']}, color='blue', width=50, height=50)\n",
    "g.set_name('Random Graph with degree centrality mapped to node color')"
   ]
  },
  {
   "cell_type": "code",
   "execution_count": null,
   "metadata": {
    "collapsed": false
   },
   "outputs": [],
   "source": [
    "graph = graphspace.post_graph(g)\n",
    "print(graph.url)"
   ]
  },
  {
   "cell_type": "markdown",
   "metadata": {},
   "source": [
    "![](images/network-with-mapped-color.png)"
   ]
  },
  {
   "cell_type": "code",
   "execution_count": null,
   "metadata": {
    "collapsed": false
   },
   "outputs": [],
   "source": [
    "graphspace.delete_graph(graph=graph)"
   ]
  },
  {
   "cell_type": "code",
   "execution_count": null,
   "metadata": {
    "collapsed": false
   },
   "outputs": [],
   "source": [
    "## Map values to node size\n",
    "\n",
    "g = nx.erdos_renyi_graph(10, 0.1, seed=10, directed=True)\n",
    "g = GSGraph(nx.relabel_nodes(g, {n: str(n) for n in g.nodes()}))\n",
    "nx.set_node_attributes(g, 'degree_centrality', nx.degree_centrality(g))\n",
    "for n in g.nodes():\n",
    "    g.add_node_style(n, color='blue', width=200*g.node[n]['degree_centrality']+20, height=200*g.node[n]['degree_centrality']+20)\n",
    "g.set_name('Random Graph with degree centrality mapped to node size')"
   ]
  },
  {
   "cell_type": "code",
   "execution_count": null,
   "metadata": {
    "collapsed": false
   },
   "outputs": [],
   "source": [
    "graph = graphspace.post_graph(g)\n",
    "print(graph.url)"
   ]
  },
  {
   "cell_type": "markdown",
   "metadata": {},
   "source": [
    "![](images/network-with-mapped-node-size.png)"
   ]
  },
  {
   "cell_type": "code",
   "execution_count": null,
   "metadata": {
    "collapsed": false
   },
   "outputs": [],
   "source": [
    "graphspace.delete_graph(graph=graph)"
   ]
  },
  {
   "cell_type": "code",
   "execution_count": null,
   "metadata": {
    "collapsed": true
   },
   "outputs": [],
   "source": []
  }
 ],
 "metadata": {
  "anaconda-cloud": {},
  "kernelspec": {
   "display_name": "Python [default]",
   "language": "python",
   "name": "python3"
  },
  "language_info": {
   "codemirror_mode": {
    "name": "ipython",
    "version": 3
   },
   "file_extension": ".py",
   "mimetype": "text/x-python",
   "name": "python",
   "nbconvert_exporter": "python",
   "pygments_lexer": "ipython3",
   "version": "3.5.2"
  }
 },
 "nbformat": 4,
 "nbformat_minor": 1
}
