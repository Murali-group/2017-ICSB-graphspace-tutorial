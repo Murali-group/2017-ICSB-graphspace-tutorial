{
 "cells": [
  {
   "cell_type": "markdown",
   "metadata": {},
   "source": [
    "# Tutorial: Using GraphSpace as a collaborative tool and a cloud store for networks\n",
    "\n",
    "**Presenters**: Aditya Bharadwaj, Jeffrey N. Law and T. M. Murali\n",
    "\n",
    "## Introduction\n",
    "\n",
    "- About Me\n",
    "    - PhD Student, CS@VT\n",
    "    - Email: adb@vt.edu\n",
    "    - Website: [adityabharadwaj.in](adityabharadwaj.in)\n",
    "    - Twitter: @adbcoder\n",
    "\n",
    "    \n",
    "## Agenda\n",
    "\n",
    "1. Upload graphs\n",
    "2. Share graphs\n",
    "3. Create layouts\n",
    "4. Share layouts\n",
    "5. Search graphs\n",
    "6. Explore a graph\n",
    "7. Publish a graph\n",
    "8. Export networks"
   ]
  },
  {
   "cell_type": "markdown",
   "metadata": {},
   "source": [
    "# How to access GraphSpace\n",
    "\n",
    "- GraphSpace is available at [www.graphspace.org](http://www.graphspace.org)\n",
    "- GraphSpace is free to use"
   ]
  },
  {
   "cell_type": "markdown",
   "metadata": {},
   "source": [
    "# Learn how to use GraphSpace\n",
    "\n",
    "- Documentation is available at [manual.graphspace.org](http://manual.graphspace.org)\n"
   ]
  },
  {
   "cell_type": "markdown",
   "metadata": {},
   "source": [
    "# Exporting graphs from Cytoscape in Cytoscape.js JSON format"
   ]
  },
  {
   "cell_type": "markdown",
   "metadata": {},
   "source": [
    "![](images/cytoscape-file-export-network-option.png)\n",
    "![](images/cytoscape-file-export-network-dialog.png)\n",
    "![](images/cytoscape-file-export-style-option.png)\n",
    "![](images/cytoscape-file-export-style-dialog.png)"
   ]
  },
  {
   "cell_type": "code",
   "execution_count": null,
   "metadata": {
    "collapsed": true
   },
   "outputs": [],
   "source": []
  }
 ],
 "metadata": {
  "anaconda-cloud": {},
  "kernelspec": {
   "display_name": "Python [default]",
   "language": "python",
   "name": "python3"
  },
  "language_info": {
   "codemirror_mode": {
    "name": "ipython",
    "version": 3
   },
   "file_extension": ".py",
   "mimetype": "text/x-python",
   "name": "python",
   "nbconvert_exporter": "python",
   "pygments_lexer": "ipython3",
   "version": "3.5.2"
  }
 },
 "nbformat": 4,
 "nbformat_minor": 1
}
